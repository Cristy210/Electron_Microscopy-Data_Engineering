{
 "cells": [
  {
   "cell_type": "markdown",
   "id": "41e0cbef",
   "metadata": {},
   "source": [
    "#### Import Required Packages"
   ]
  },
  {
   "cell_type": "code",
   "execution_count": 19,
   "id": "dbfc7f36",
   "metadata": {},
   "outputs": [],
   "source": [
    "from cloudvolume import CloudVolume\n",
    "import numpy as np\n",
    "import os\n",
    "import random\n",
    "import requests\n",
    "import tifffile\n",
    "import matplotlib.pyplot as plt\n",
    "import fsspec\n",
    "import zarr\n",
    "import dask.array as da\n",
    "import pandas as pd"
   ]
  },
  {
   "cell_type": "markdown",
   "id": "b8bdeb3f",
   "metadata": {},
   "source": [
    "#### FlyEM Hemibrain Dataset - Neuroglancer"
   ]
  },
  {
   "cell_type": "code",
   "execution_count": 3,
   "id": "85a011cd",
   "metadata": {},
   "outputs": [],
   "source": [
    "volume = CloudVolume('precomputed://gs://neuroglancer-janelia-flyem-hemibrain/v1.0/segmentation', use_https=True, parallel=True)"
   ]
  },
  {
   "cell_type": "code",
   "execution_count": 4,
   "id": "d7a4e79e",
   "metadata": {},
   "outputs": [
    {
     "name": "stdout",
     "output_type": "stream",
     "text": [
      "FlyEM Hemibrain - Volume size (z, y, x): [34432 39552 41408]\n"
     ]
    }
   ],
   "source": [
    "print(\"FlyEM Hemibrain - Volume size (z, y, x):\", volume.bounds.maxpt)"
   ]
  },
  {
   "cell_type": "code",
   "execution_count": 8,
   "id": "a704bc2e",
   "metadata": {},
   "outputs": [],
   "source": [
    "crop_shape = np.array([1000, 1000, 1000])\n",
    "max_start = volume.bounds.maxpt - crop_shape\n",
    "start = np.array([random.randint(0, max_start[0]),\n",
    "                  random.randint(0, max_start[1]),\n",
    "                  random.randint(0, max_start[2])])\n",
    "end = start + crop_shape"
   ]
  },
  {
   "cell_type": "code",
   "execution_count": 6,
   "id": "55c5338f",
   "metadata": {},
   "outputs": [
    {
     "name": "stderr",
     "output_type": "stream",
     "text": [
      "Downloading Bundles: 100%|██████████| 614/614 [00:01<00:00, 419.17it/s]\n",
      "Decompressing: 100%|██████████| 4624/4624 [00:00<00:00, 158448.90it/s]\n"
     ]
    }
   ],
   "source": [
    "img = volume[start[0]:end[0], start[1]:end[1], start[2]:end[2]]"
   ]
  },
  {
   "cell_type": "code",
   "execution_count": 7,
   "id": "cf80d8a8",
   "metadata": {},
   "outputs": [
    {
     "data": {
      "text/plain": [
       "(1000, 1000, 1000, 1)"
      ]
     },
     "execution_count": 7,
     "metadata": {},
     "output_type": "execute_result"
    }
   ],
   "source": [
    "img.shape"
   ]
  },
  {
   "cell_type": "code",
   "execution_count": 75,
   "id": "72cf5327",
   "metadata": {},
   "outputs": [],
   "source": [
    "np.save(\"Data/flyem_hemibrain_crop.npy\", img)"
   ]
  },
  {
   "cell_type": "code",
   "execution_count": 12,
   "id": "84b9120b",
   "metadata": {},
   "outputs": [],
   "source": [
    "vol_keys = volume.info.keys()"
   ]
  },
  {
   "cell_type": "code",
   "execution_count": null,
   "id": "bb2db565",
   "metadata": {},
   "outputs": [
    {
     "name": "stdout",
     "output_type": "stream",
     "text": [
      "Types:  neuroglancer_multiscale_volume\n",
      "Number of Channels:  1\n",
      "scale: {'chunk_sizes': [[64, 64, 64]], 'compressed_segmentation_block_size': [8, 8, 8], 'encoding': 'compressed_segmentation', 'key': '2048.0x2048.0x2048.0', 'resolution': [2048, 2048, 2048], 'sharding': {'@type': 'neuroglancer_uint64_sharded_v1', 'data_encoding': 'gzip', 'hash': 'identity', 'minishard_bits': 0, 'minishard_index_encoding': 'gzip', 'preshift_bits': 6, 'shard_bits': 0}, 'size': [135, 155, 162]}\n",
      "Data type: uint64\n",
      "Segment Properties: segment_properties\n",
      "Type: segmentation\n",
      "Segment Name Map: names\n",
      "Mesh: mesh\n"
     ]
    }
   ],
   "source": [
    "print(\"Types: \", volume.info['@type'])\n",
    "print(\"Number of Channels: \", volume.info['num_channels'])\n",
    "print(\"scale:\", volume.info['scales'][0])\n",
    "print(\"Data type:\", volume.info['data_type'])\n",
    "print(\"Segment Properties:\", volume.info['segment_properties'])\n",
    "print(\"Type:\", volume.info['type'])\n",
    "print(\"Segment Name Map:\", volume.info['segment_name_map'])\n",
    "print(\"Mesh:\", volume.info['mesh'])\n"
   ]
  },
  {
   "cell_type": "code",
   "execution_count": 39,
   "id": "1840c36e",
   "metadata": {},
   "outputs": [],
   "source": [
    "ng_meta_keys = [k for k in vol_keys if k!= 'scales']\n",
    "ng_keys_rows = []\n",
    "for key in ng_meta_keys:\n",
    "    ng_keys_rows.append({'Field': key, 'Value': volume.info[key]})\n",
    "ng_meta_keys_df = pd.DataFrame(ng_keys_rows)\n",
    "ng_meta_keys_df.to_csv('flyem_hemibrain_ng_meta_keys.csv', index=False)\n"
   ]
  },
  {
   "cell_type": "code",
   "execution_count": 41,
   "id": "067f6f53",
   "metadata": {},
   "outputs": [
    {
     "name": "stdout",
     "output_type": "stream",
     "text": [
      "| Field              | Value                          |\n",
      "|:-------------------|:-------------------------------|\n",
      "| @type              | neuroglancer_multiscale_volume |\n",
      "| data_type          | uint64                         |\n",
      "| num_channels       | 1                              |\n",
      "| type               | segmentation                   |\n",
      "| mesh               | mesh                           |\n",
      "| segment_name_map   | names                          |\n",
      "| segment_properties | segment_properties             |\n"
     ]
    }
   ],
   "source": [
    "print(ng_meta_keys_df.to_markdown(index=False))"
   ]
  },
  {
   "cell_type": "code",
   "execution_count": 71,
   "id": "f125d7fd",
   "metadata": {},
   "outputs": [],
   "source": [
    "ng_meta_scales_rows = []\n",
    "for (idx, scale) in enumerate(volume.info['scales']):\n",
    "    row = {'Scale': idx}\n",
    "    for key, value in scale.items():\n",
    "        if key != 'sharding':\n",
    "            row[key] = value\n",
    "    ng_meta_scales_rows.append(row)\n",
    "ng_meta_scales_df = pd.DataFrame(ng_meta_scales_rows)\n",
    "ng_meta_scales_df.to_csv('flyem_hemibrain_ng_meta_scales.csv', index=False)"
   ]
  },
  {
   "cell_type": "code",
   "execution_count": 72,
   "id": "593cf400",
   "metadata": {},
   "outputs": [
    {
     "name": "stdout",
     "output_type": "stream",
     "text": [
      "|   Scale | chunk_sizes    | compressed_segmentation_block_size   | encoding                | key                  | resolution         | size                  |\n",
      "|--------:|:---------------|:-------------------------------------|:------------------------|:---------------------|:-------------------|:----------------------|\n",
      "|       0 | [[64, 64, 64]] | [8, 8, 8]                            | compressed_segmentation | 8.0x8.0x8.0          | [8, 8, 8]          | [34432, 39552, 41408] |\n",
      "|       1 | [[64, 64, 64]] | [8, 8, 8]                            | compressed_segmentation | 16.0x16.0x16.0       | [16, 16, 16]       | [17216, 19776, 20704] |\n",
      "|       2 | [[64, 64, 64]] | [8, 8, 8]                            | compressed_segmentation | 32.0x32.0x32.0       | [32, 32, 32]       | [8608, 9888, 10352]   |\n",
      "|       3 | [[64, 64, 64]] | [8, 8, 8]                            | compressed_segmentation | 64.0x64.0x64.0       | [64, 64, 64]       | [4304, 4944, 5176]    |\n",
      "|       4 | [[64, 64, 64]] | [8, 8, 8]                            | compressed_segmentation | 128.0x128.0x128.0    | [128, 128, 128]    | [2152, 2472, 2588]    |\n",
      "|       5 | [[64, 64, 64]] | [8, 8, 8]                            | compressed_segmentation | 256.0x256.0x256.0    | [256, 256, 256]    | [1076, 1236, 1294]    |\n",
      "|       6 | [[64, 64, 64]] | [8, 8, 8]                            | compressed_segmentation | 512.0x512.0x512.0    | [512, 512, 512]    | [538, 618, 647]       |\n",
      "|       7 | [[64, 64, 64]] | [8, 8, 8]                            | compressed_segmentation | 1024.0x1024.0x1024.0 | [1024, 1024, 1024] | [269, 309, 324]       |\n",
      "|       8 | [[64, 64, 64]] | [8, 8, 8]                            | compressed_segmentation | 2048.0x2048.0x2048.0 | [2048, 2048, 2048] | [135, 155, 162]       |\n"
     ]
    }
   ],
   "source": [
    "print(ng_meta_scales_df.to_markdown(index=False))"
   ]
  },
  {
   "cell_type": "code",
   "execution_count": 73,
   "id": "03aa8fc2",
   "metadata": {},
   "outputs": [],
   "source": [
    "ng_meta_sharding_rows = []\n",
    "for (idx, scale) in enumerate(volume.info['scales']):\n",
    "    row = {'Scale': idx}\n",
    "    if 'sharding' in scale:\n",
    "        for key, value in scale['sharding'].items():\n",
    "            row[key] = value\n",
    "        ng_meta_sharding_rows.append(row)\n",
    "ng_meta_sharding_df = pd.DataFrame(ng_meta_sharding_rows)\n",
    "ng_meta_sharding_df.to_csv('flyem_hemibrain_ng_meta_sharding.csv', index=False)"
   ]
  },
  {
   "cell_type": "code",
   "execution_count": 74,
   "id": "eddc40b1",
   "metadata": {},
   "outputs": [
    {
     "name": "stdout",
     "output_type": "stream",
     "text": [
      "|   Scale | @type                          | data_encoding   | hash     |   minishard_bits | minishard_index_encoding   |   preshift_bits |   shard_bits |\n",
      "|--------:|:-------------------------------|:----------------|:---------|-----------------:|:---------------------------|----------------:|-------------:|\n",
      "|       0 | neuroglancer_uint64_sharded_v1 | gzip            | identity |                6 | gzip                       |               9 |           15 |\n",
      "|       1 | neuroglancer_uint64_sharded_v1 | gzip            | identity |                6 | gzip                       |               9 |           12 |\n",
      "|       2 | neuroglancer_uint64_sharded_v1 | gzip            | identity |                6 | gzip                       |               9 |            9 |\n",
      "|       3 | neuroglancer_uint64_sharded_v1 | gzip            | identity |                6 | gzip                       |               9 |            6 |\n",
      "|       4 | neuroglancer_uint64_sharded_v1 | gzip            | identity |                6 | gzip                       |               9 |            3 |\n",
      "|       5 | neuroglancer_uint64_sharded_v1 | gzip            | identity |                6 | gzip                       |               9 |            0 |\n",
      "|       6 | neuroglancer_uint64_sharded_v1 | gzip            | identity |                3 | gzip                       |               9 |            0 |\n",
      "|       7 | neuroglancer_uint64_sharded_v1 | gzip            | identity |                0 | gzip                       |               9 |            0 |\n",
      "|       8 | neuroglancer_uint64_sharded_v1 | gzip            | identity |                0 | gzip                       |               6 |            0 |\n"
     ]
    }
   ],
   "source": [
    "print(ng_meta_sharding_df.to_markdown(index=False))"
   ]
  }
 ],
 "metadata": {
  "kernelspec": {
   "display_name": "Summer",
   "language": "python",
   "name": "python3"
  },
  "language_info": {
   "codemirror_mode": {
    "name": "ipython",
    "version": 3
   },
   "file_extension": ".py",
   "mimetype": "text/x-python",
   "name": "python",
   "nbconvert_exporter": "python",
   "pygments_lexer": "ipython3",
   "version": "3.9.18"
  }
 },
 "nbformat": 4,
 "nbformat_minor": 5
}
