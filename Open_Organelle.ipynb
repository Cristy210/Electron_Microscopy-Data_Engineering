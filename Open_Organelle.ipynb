{
 "cells": [
  {
   "cell_type": "code",
   "execution_count": 1,
   "id": "0215e2eb",
   "metadata": {},
   "outputs": [],
   "source": [
    "from cloudvolume import CloudVolume\n",
    "import numpy as np\n",
    "import os\n",
    "import random\n",
    "import requests\n",
    "import tifffile\n",
    "import matplotlib.pyplot as plt\n",
    "import fsspec\n",
    "import zarr\n",
    "import dask.array as da\n",
    "import pandas as pd"
   ]
  },
  {
   "cell_type": "markdown",
   "id": "7af42b69",
   "metadata": {},
   "source": [
    "### Mouse nucleus accumbens - OpenOrganelle"
   ]
  },
  {
   "cell_type": "code",
   "execution_count": 2,
   "id": "1642e060",
   "metadata": {},
   "outputs": [],
   "source": [
    "store = fsspec.get_mapper('s3://janelia-cosem-datasets/jrc_mus-nacc-2/jrc_mus-nacc-2.zarr', anon=True)\n",
    "group = zarr.open(store, mode='r')"
   ]
  },
  {
   "cell_type": "code",
   "execution_count": 3,
   "id": "7377f18c",
   "metadata": {},
   "outputs": [
    {
     "name": "stdout",
     "output_type": "stream",
     "text": [
      "/\n",
      " └── recon-2\n",
      "     ├── em\n",
      "     │   └── fibsem-int16\n",
      "     │       ├── s0 (564, 2520, 2596) int16\n",
      "     │       ├── s1 (282, 1260, 1298) int16\n",
      "     │       ├── s2 (141, 630, 649) int16\n",
      "     │       ├── s3 (70, 315, 324) int16\n",
      "     │       ├── s4 (35, 157, 162) int16\n",
      "     │       ├── s5 (17, 78, 81) int16\n",
      "     │       ├── s6 (8, 39, 40) int16\n",
      "     │       ├── s7 (4, 19, 20) int16\n",
      "     │       └── s8 (2, 9, 10) int16\n",
      "     └── labels\n",
      "         └── inference\n",
      "             └── segmentations\n",
      "                 └── nuc\n",
      "                     ├── s0 (70, 315, 324) uint8\n",
      "                     ├── s1 (35, 157, 162) uint8\n",
      "                     └── s2 (17, 78, 81) uint8\n"
     ]
    }
   ],
   "source": [
    "print(group.tree())"
   ]
  },
  {
   "cell_type": "code",
   "execution_count": 4,
   "id": "6c07c1c8",
   "metadata": {},
   "outputs": [
    {
     "name": "stdout",
     "output_type": "stream",
     "text": [
      "['recon-2']\n"
     ]
    }
   ],
   "source": [
    "print(list(group.group_keys()))"
   ]
  },
  {
   "cell_type": "code",
   "execution_count": 5,
   "id": "b46f5506",
   "metadata": {},
   "outputs": [],
   "source": [
    "zdata = group['recon-2/em/fibsem-int16/s0']"
   ]
  },
  {
   "cell_type": "code",
   "execution_count": 6,
   "id": "5d39e954",
   "metadata": {},
   "outputs": [
    {
     "name": "stdout",
     "output_type": "stream",
     "text": [
      "(564, 2520, 2596)\n"
     ]
    }
   ],
   "source": [
    "print(zdata.shape)"
   ]
  },
  {
   "cell_type": "code",
   "execution_count": 7,
   "id": "b596e68c",
   "metadata": {},
   "outputs": [],
   "source": [
    "ddata = da.from_array(zdata, chunks=zdata.chunks)"
   ]
  },
  {
   "cell_type": "code",
   "execution_count": 8,
   "id": "41ae5e3c",
   "metadata": {},
   "outputs": [
    {
     "data": {
      "text/html": [
       "<table>\n",
       "    <tr>\n",
       "        <td>\n",
       "            <table style=\"border-collapse: collapse;\">\n",
       "                <thead>\n",
       "                    <tr>\n",
       "                        <td> </td>\n",
       "                        <th> Array </th>\n",
       "                        <th> Chunk </th>\n",
       "                    </tr>\n",
       "                </thead>\n",
       "                <tbody>\n",
       "                    \n",
       "                    <tr>\n",
       "                        <th> Bytes </th>\n",
       "                        <td> 6.87 GiB </td>\n",
       "                        <td> 512.00 kiB </td>\n",
       "                    </tr>\n",
       "                    \n",
       "                    <tr>\n",
       "                        <th> Shape </th>\n",
       "                        <td> (564, 2520, 2596) </td>\n",
       "                        <td> (64, 64, 64) </td>\n",
       "                    </tr>\n",
       "                    <tr>\n",
       "                        <th> Dask graph </th>\n",
       "                        <td colspan=\"2\"> 14760 chunks in 2 graph layers </td>\n",
       "                    </tr>\n",
       "                    <tr>\n",
       "                        <th> Data type </th>\n",
       "                        <td colspan=\"2\"> int16 numpy.ndarray </td>\n",
       "                    </tr>\n",
       "                </tbody>\n",
       "            </table>\n",
       "        </td>\n",
       "        <td>\n",
       "        <svg width=\"204\" height=\"191\" style=\"stroke:rgb(0,0,0);stroke-width:1\" >\n",
       "\n",
       "  <!-- Horizontal lines -->\n",
       "  <line x1=\"10\" y1=\"0\" x2=\"34\" y2=\"24\" style=\"stroke-width:2\" />\n",
       "  <line x1=\"10\" y1=\"5\" x2=\"34\" y2=\"30\" />\n",
       "  <line x1=\"10\" y1=\"11\" x2=\"34\" y2=\"36\" />\n",
       "  <line x1=\"10\" y1=\"17\" x2=\"34\" y2=\"42\" />\n",
       "  <line x1=\"10\" y1=\"23\" x2=\"34\" y2=\"48\" />\n",
       "  <line x1=\"10\" y1=\"29\" x2=\"34\" y2=\"54\" />\n",
       "  <line x1=\"10\" y1=\"35\" x2=\"34\" y2=\"60\" />\n",
       "  <line x1=\"10\" y1=\"41\" x2=\"34\" y2=\"66\" />\n",
       "  <line x1=\"10\" y1=\"47\" x2=\"34\" y2=\"72\" />\n",
       "  <line x1=\"10\" y1=\"53\" x2=\"34\" y2=\"78\" />\n",
       "  <line x1=\"10\" y1=\"62\" x2=\"34\" y2=\"87\" />\n",
       "  <line x1=\"10\" y1=\"68\" x2=\"34\" y2=\"92\" />\n",
       "  <line x1=\"10\" y1=\"73\" x2=\"34\" y2=\"98\" />\n",
       "  <line x1=\"10\" y1=\"79\" x2=\"34\" y2=\"104\" />\n",
       "  <line x1=\"10\" y1=\"85\" x2=\"34\" y2=\"110\" />\n",
       "  <line x1=\"10\" y1=\"91\" x2=\"34\" y2=\"116\" />\n",
       "  <line x1=\"10\" y1=\"97\" x2=\"34\" y2=\"122\" />\n",
       "  <line x1=\"10\" y1=\"103\" x2=\"34\" y2=\"128\" />\n",
       "  <line x1=\"10\" y1=\"109\" x2=\"34\" y2=\"134\" />\n",
       "  <line x1=\"10\" y1=\"116\" x2=\"34\" y2=\"141\" style=\"stroke-width:2\" />\n",
       "\n",
       "  <!-- Vertical lines -->\n",
       "  <line x1=\"10\" y1=\"0\" x2=\"10\" y2=\"116\" style=\"stroke-width:2\" />\n",
       "  <line x1=\"12\" y1=\"2\" x2=\"12\" y2=\"119\" />\n",
       "  <line x1=\"15\" y1=\"5\" x2=\"15\" y2=\"122\" />\n",
       "  <line x1=\"18\" y1=\"8\" x2=\"18\" y2=\"124\" />\n",
       "  <line x1=\"21\" y1=\"11\" x2=\"21\" y2=\"127\" />\n",
       "  <line x1=\"24\" y1=\"14\" x2=\"24\" y2=\"130\" />\n",
       "  <line x1=\"26\" y1=\"16\" x2=\"26\" y2=\"133\" />\n",
       "  <line x1=\"29\" y1=\"19\" x2=\"29\" y2=\"136\" />\n",
       "  <line x1=\"32\" y1=\"22\" x2=\"32\" y2=\"139\" />\n",
       "  <line x1=\"34\" y1=\"24\" x2=\"34\" y2=\"141\" style=\"stroke-width:2\" />\n",
       "\n",
       "  <!-- Colored Rectangle -->\n",
       "  <polygon points=\"10.0,0.0 34.913082670555745,24.913082670555745 34.913082670555745,141.39998559813665 10.0,116.4869029275809\" style=\"fill:#8B4903A0;stroke-width:0\"/>\n",
       "\n",
       "  <!-- Horizontal lines -->\n",
       "  <line x1=\"10\" y1=\"0\" x2=\"130\" y2=\"0\" style=\"stroke-width:2\" />\n",
       "  <line x1=\"12\" y1=\"2\" x2=\"132\" y2=\"2\" />\n",
       "  <line x1=\"15\" y1=\"5\" x2=\"135\" y2=\"5\" />\n",
       "  <line x1=\"18\" y1=\"8\" x2=\"138\" y2=\"8\" />\n",
       "  <line x1=\"21\" y1=\"11\" x2=\"141\" y2=\"11\" />\n",
       "  <line x1=\"24\" y1=\"14\" x2=\"144\" y2=\"14\" />\n",
       "  <line x1=\"26\" y1=\"16\" x2=\"146\" y2=\"16\" />\n",
       "  <line x1=\"29\" y1=\"19\" x2=\"149\" y2=\"19\" />\n",
       "  <line x1=\"32\" y1=\"22\" x2=\"152\" y2=\"22\" />\n",
       "  <line x1=\"34\" y1=\"24\" x2=\"154\" y2=\"24\" style=\"stroke-width:2\" />\n",
       "\n",
       "  <!-- Vertical lines -->\n",
       "  <line x1=\"10\" y1=\"0\" x2=\"34\" y2=\"24\" style=\"stroke-width:2\" />\n",
       "  <line x1=\"15\" y1=\"0\" x2=\"40\" y2=\"24\" />\n",
       "  <line x1=\"21\" y1=\"0\" x2=\"46\" y2=\"24\" />\n",
       "  <line x1=\"27\" y1=\"0\" x2=\"52\" y2=\"24\" />\n",
       "  <line x1=\"33\" y1=\"0\" x2=\"58\" y2=\"24\" />\n",
       "  <line x1=\"39\" y1=\"0\" x2=\"64\" y2=\"24\" />\n",
       "  <line x1=\"45\" y1=\"0\" x2=\"70\" y2=\"24\" />\n",
       "  <line x1=\"54\" y1=\"0\" x2=\"79\" y2=\"24\" />\n",
       "  <line x1=\"60\" y1=\"0\" x2=\"85\" y2=\"24\" />\n",
       "  <line x1=\"66\" y1=\"0\" x2=\"91\" y2=\"24\" />\n",
       "  <line x1=\"72\" y1=\"0\" x2=\"97\" y2=\"24\" />\n",
       "  <line x1=\"78\" y1=\"0\" x2=\"102\" y2=\"24\" />\n",
       "  <line x1=\"83\" y1=\"0\" x2=\"108\" y2=\"24\" />\n",
       "  <line x1=\"92\" y1=\"0\" x2=\"117\" y2=\"24\" />\n",
       "  <line x1=\"98\" y1=\"0\" x2=\"123\" y2=\"24\" />\n",
       "  <line x1=\"104\" y1=\"0\" x2=\"129\" y2=\"24\" />\n",
       "  <line x1=\"110\" y1=\"0\" x2=\"135\" y2=\"24\" />\n",
       "  <line x1=\"116\" y1=\"0\" x2=\"141\" y2=\"24\" />\n",
       "  <line x1=\"122\" y1=\"0\" x2=\"147\" y2=\"24\" />\n",
       "  <line x1=\"130\" y1=\"0\" x2=\"154\" y2=\"24\" style=\"stroke-width:2\" />\n",
       "\n",
       "  <!-- Colored Rectangle -->\n",
       "  <polygon points=\"10.0,0.0 130.0,0.0 154.91308267055575,24.913082670555745 34.913082670555745,24.913082670555745\" style=\"fill:#8B4903A0;stroke-width:0\"/>\n",
       "\n",
       "  <!-- Horizontal lines -->\n",
       "  <line x1=\"34\" y1=\"24\" x2=\"154\" y2=\"24\" style=\"stroke-width:2\" />\n",
       "  <line x1=\"34\" y1=\"30\" x2=\"154\" y2=\"30\" />\n",
       "  <line x1=\"34\" y1=\"36\" x2=\"154\" y2=\"36\" />\n",
       "  <line x1=\"34\" y1=\"42\" x2=\"154\" y2=\"42\" />\n",
       "  <line x1=\"34\" y1=\"48\" x2=\"154\" y2=\"48\" />\n",
       "  <line x1=\"34\" y1=\"54\" x2=\"154\" y2=\"54\" />\n",
       "  <line x1=\"34\" y1=\"60\" x2=\"154\" y2=\"60\" />\n",
       "  <line x1=\"34\" y1=\"66\" x2=\"154\" y2=\"66\" />\n",
       "  <line x1=\"34\" y1=\"72\" x2=\"154\" y2=\"72\" />\n",
       "  <line x1=\"34\" y1=\"78\" x2=\"154\" y2=\"78\" />\n",
       "  <line x1=\"34\" y1=\"87\" x2=\"154\" y2=\"87\" />\n",
       "  <line x1=\"34\" y1=\"92\" x2=\"154\" y2=\"92\" />\n",
       "  <line x1=\"34\" y1=\"98\" x2=\"154\" y2=\"98\" />\n",
       "  <line x1=\"34\" y1=\"104\" x2=\"154\" y2=\"104\" />\n",
       "  <line x1=\"34\" y1=\"110\" x2=\"154\" y2=\"110\" />\n",
       "  <line x1=\"34\" y1=\"116\" x2=\"154\" y2=\"116\" />\n",
       "  <line x1=\"34\" y1=\"122\" x2=\"154\" y2=\"122\" />\n",
       "  <line x1=\"34\" y1=\"128\" x2=\"154\" y2=\"128\" />\n",
       "  <line x1=\"34\" y1=\"134\" x2=\"154\" y2=\"134\" />\n",
       "  <line x1=\"34\" y1=\"141\" x2=\"154\" y2=\"141\" style=\"stroke-width:2\" />\n",
       "\n",
       "  <!-- Vertical lines -->\n",
       "  <line x1=\"34\" y1=\"24\" x2=\"34\" y2=\"141\" style=\"stroke-width:2\" />\n",
       "  <line x1=\"40\" y1=\"24\" x2=\"40\" y2=\"141\" />\n",
       "  <line x1=\"46\" y1=\"24\" x2=\"46\" y2=\"141\" />\n",
       "  <line x1=\"52\" y1=\"24\" x2=\"52\" y2=\"141\" />\n",
       "  <line x1=\"58\" y1=\"24\" x2=\"58\" y2=\"141\" />\n",
       "  <line x1=\"64\" y1=\"24\" x2=\"64\" y2=\"141\" />\n",
       "  <line x1=\"70\" y1=\"24\" x2=\"70\" y2=\"141\" />\n",
       "  <line x1=\"79\" y1=\"24\" x2=\"79\" y2=\"141\" />\n",
       "  <line x1=\"85\" y1=\"24\" x2=\"85\" y2=\"141\" />\n",
       "  <line x1=\"91\" y1=\"24\" x2=\"91\" y2=\"141\" />\n",
       "  <line x1=\"97\" y1=\"24\" x2=\"97\" y2=\"141\" />\n",
       "  <line x1=\"102\" y1=\"24\" x2=\"102\" y2=\"141\" />\n",
       "  <line x1=\"108\" y1=\"24\" x2=\"108\" y2=\"141\" />\n",
       "  <line x1=\"117\" y1=\"24\" x2=\"117\" y2=\"141\" />\n",
       "  <line x1=\"123\" y1=\"24\" x2=\"123\" y2=\"141\" />\n",
       "  <line x1=\"129\" y1=\"24\" x2=\"129\" y2=\"141\" />\n",
       "  <line x1=\"135\" y1=\"24\" x2=\"135\" y2=\"141\" />\n",
       "  <line x1=\"141\" y1=\"24\" x2=\"141\" y2=\"141\" />\n",
       "  <line x1=\"147\" y1=\"24\" x2=\"147\" y2=\"141\" />\n",
       "  <line x1=\"154\" y1=\"24\" x2=\"154\" y2=\"141\" style=\"stroke-width:2\" />\n",
       "\n",
       "  <!-- Colored Rectangle -->\n",
       "  <polygon points=\"34.913082670555745,24.913082670555745 154.91308267055575,24.913082670555745 154.91308267055575,141.39998559813665 34.913082670555745,141.39998559813665\" style=\"fill:#8B4903A0;stroke-width:0\"/>\n",
       "\n",
       "  <!-- Text -->\n",
       "  <text x=\"94.913083\" y=\"161.399986\" font-size=\"1.0rem\" font-weight=\"100\" text-anchor=\"middle\" >2596</text>\n",
       "  <text x=\"174.913083\" y=\"83.156534\" font-size=\"1.0rem\" font-weight=\"100\" text-anchor=\"middle\" transform=\"rotate(-90,174.913083,83.156534)\">2520</text>\n",
       "  <text x=\"12.456541\" y=\"148.943444\" font-size=\"1.0rem\" font-weight=\"100\" text-anchor=\"middle\" transform=\"rotate(45,12.456541,148.943444)\">564</text>\n",
       "</svg>\n",
       "        </td>\n",
       "    </tr>\n",
       "</table>"
      ],
      "text/plain": [
       "dask.array<array, shape=(564, 2520, 2596), dtype=int16, chunksize=(64, 64, 64), chunktype=numpy.ndarray>"
      ]
     },
     "execution_count": 8,
     "metadata": {},
     "output_type": "execute_result"
    }
   ],
   "source": [
    "ddata"
   ]
  },
  {
   "cell_type": "code",
   "execution_count": 9,
   "id": "26698b3e",
   "metadata": {},
   "outputs": [],
   "source": [
    "ddata_np = ddata.compute()"
   ]
  },
  {
   "cell_type": "code",
   "execution_count": 10,
   "id": "fdcb3781",
   "metadata": {},
   "outputs": [],
   "source": [
    "np.save('Data/fibsem_fullres_s0.npy', ddata_np)"
   ]
  },
  {
   "cell_type": "code",
   "execution_count": 11,
   "id": "ef842ba3",
   "metadata": {},
   "outputs": [],
   "source": [
    "fibsem_meta = group['recon-2']['em']['fibsem-int16'].attrs.asdict()"
   ]
  },
  {
   "cell_type": "code",
   "execution_count": 12,
   "id": "dff25fea",
   "metadata": {},
   "outputs": [],
   "source": [
    "labels_meta = group['recon-2']['labels']['inference']['segmentations']['nuc'].attrs.asdict()"
   ]
  },
  {
   "cell_type": "code",
   "execution_count": 13,
   "id": "3b19555f",
   "metadata": {},
   "outputs": [
    {
     "data": {
      "text/plain": [
       "[{'coordinateTransformations': [{'scale': [23.68, 32.0, 32.0],\n",
       "    'type': 'scale'},\n",
       "   {'translation': [10.36, 14.0, 14.0], 'type': 'translation'}],\n",
       "  'path': 's0'},\n",
       " {'coordinateTransformations': [{'scale': [47.36, 64.0, 64.0],\n",
       "    'type': 'scale'},\n",
       "   {'translation': [22.2, 30.0, 30.0], 'type': 'translation'}],\n",
       "  'path': 's1'},\n",
       " {'coordinateTransformations': [{'scale': [94.72, 128.0, 128.0],\n",
       "    'type': 'scale'},\n",
       "   {'translation': [45.879999999999995, 62.0, 62.0], 'type': 'translation'}],\n",
       "  'path': 's2'}]"
      ]
     },
     "execution_count": 13,
     "metadata": {},
     "output_type": "execute_result"
    }
   ],
   "source": [
    "labels_meta['multiscales'][0]['datasets']"
   ]
  },
  {
   "cell_type": "code",
   "execution_count": 14,
   "id": "4fcef649",
   "metadata": {},
   "outputs": [
    {
     "data": {
      "text/plain": [
       "[{'coordinateTransformations': [{'scale': [2.96, 4.0, 4.0], 'type': 'scale'},\n",
       "   {'translation': [0.0, 0.0, 0.0], 'type': 'translation'}],\n",
       "  'path': 's0'},\n",
       " {'coordinateTransformations': [{'scale': [5.92, 8.0, 8.0], 'type': 'scale'},\n",
       "   {'translation': [1.48, 2.0, 2.0], 'type': 'translation'}],\n",
       "  'path': 's1'},\n",
       " {'coordinateTransformations': [{'scale': [11.840000000000002, 16.0, 16.0],\n",
       "    'type': 'scale'},\n",
       "   {'translation': [4.4399999999999995, 6.0, 6.0], 'type': 'translation'}],\n",
       "  'path': 's2'},\n",
       " {'coordinateTransformations': [{'scale': [23.68, 32.0, 32.0],\n",
       "    'type': 'scale'},\n",
       "   {'translation': [10.36, 14.0, 14.0], 'type': 'translation'}],\n",
       "  'path': 's3'},\n",
       " {'coordinateTransformations': [{'scale': [47.36, 64.0, 64.0],\n",
       "    'type': 'scale'},\n",
       "   {'translation': [22.2, 30.0, 30.0], 'type': 'translation'}],\n",
       "  'path': 's4'},\n",
       " {'coordinateTransformations': [{'scale': [94.72, 128.0, 128.0],\n",
       "    'type': 'scale'},\n",
       "   {'translation': [45.88, 62.0, 62.0], 'type': 'translation'}],\n",
       "  'path': 's5'},\n",
       " {'coordinateTransformations': [{'scale': [189.44, 256.0, 256.0],\n",
       "    'type': 'scale'},\n",
       "   {'translation': [93.24, 126.0, 126.0], 'type': 'translation'}],\n",
       "  'path': 's6'},\n",
       " {'coordinateTransformations': [{'scale': [378.8799999999999, 512.0, 512.0],\n",
       "    'type': 'scale'},\n",
       "   {'translation': [187.96, 254.0, 254.0], 'type': 'translation'}],\n",
       "  'path': 's7'},\n",
       " {'coordinateTransformations': [{'scale': [757.7599999999999, 1024.0, 1024.0],\n",
       "    'type': 'scale'},\n",
       "   {'translation': [377.4, 510.0, 510.0], 'type': 'translation'}],\n",
       "  'path': 's8'}]"
      ]
     },
     "execution_count": 14,
     "metadata": {},
     "output_type": "execute_result"
    }
   ],
   "source": [
    "fibsem_meta['multiscales'][0]['datasets']"
   ]
  },
  {
   "cell_type": "code",
   "execution_count": null,
   "id": "045e27ab",
   "metadata": {},
   "outputs": [],
   "source": [
    "fibsem_meta_rows = []\n",
    "for ds in fibsem_meta['multiscales'][0]['datasets']:\n",
    "    path = ds['path']\n",
    "    scale = translation = None\n",
    "    for tf in ds['coordinateTransformations']:\n",
    "        if tf['type'] == 'scale':\n",
    "            scale = tf['scale']\n",
    "        if tf['type'] == 'translation':\n",
    "            translation = tf['translation']\n",
    "    fibsem_meta_rows.append({\n",
    "        'Resolution': path,\n",
    "        'Voxel size (z, y, x)[nm]': scale,\n",
    "        'Translation (z, y, x)[nm]': translation\n",
    "    })\n",
    "\n",
    "fibsem_meta_df = pd.DataFrame(fibsem_meta_rows)\n",
    "fibsem_meta_df.to_csv('Open_Organelle/fibsem_meta.csv', index=False)"
   ]
  },
  {
   "cell_type": "code",
   "execution_count": 16,
   "id": "ceaab376",
   "metadata": {},
   "outputs": [
    {
     "name": "stdout",
     "output_type": "stream",
     "text": [
      "| Resolution   | Voxel size (z, y, x)[nm]            | Translation (z, y, x)[nm]      |\n",
      "|:-------------|:------------------------------------|:-------------------------------|\n",
      "| s0           | [2.96, 4.0, 4.0]                    | [0.0, 0.0, 0.0]                |\n",
      "| s1           | [5.92, 8.0, 8.0]                    | [1.48, 2.0, 2.0]               |\n",
      "| s2           | [11.840000000000002, 16.0, 16.0]    | [4.4399999999999995, 6.0, 6.0] |\n",
      "| s3           | [23.68, 32.0, 32.0]                 | [10.36, 14.0, 14.0]            |\n",
      "| s4           | [47.36, 64.0, 64.0]                 | [22.2, 30.0, 30.0]             |\n",
      "| s5           | [94.72, 128.0, 128.0]               | [45.88, 62.0, 62.0]            |\n",
      "| s6           | [189.44, 256.0, 256.0]              | [93.24, 126.0, 126.0]          |\n",
      "| s7           | [378.8799999999999, 512.0, 512.0]   | [187.96, 254.0, 254.0]         |\n",
      "| s8           | [757.7599999999999, 1024.0, 1024.0] | [377.4, 510.0, 510.0]          |\n"
     ]
    }
   ],
   "source": [
    "print(fibsem_meta_df.to_markdown(index=False))"
   ]
  },
  {
   "cell_type": "code",
   "execution_count": null,
   "id": "fac02540",
   "metadata": {},
   "outputs": [],
   "source": [
    "labels_meta_rows = []\n",
    "for ds in labels_meta['multiscales'][0]['datasets']:\n",
    "    path = ds['path']\n",
    "    scale = translation = None\n",
    "    for tf in ds['coordinateTransformations']:\n",
    "        if tf['type'] == 'scale':\n",
    "            scale = tf['scale']\n",
    "        if tf['type'] == 'translation':\n",
    "            translation = tf['translation']\n",
    "    labels_meta_rows.append({\n",
    "        'Resolution': path,\n",
    "        'Voxel size (z, y, x)[nm]': scale,\n",
    "        'Translation (z, y, x)[nm]': translation\n",
    "    })\n",
    "labels_meta_df = pd.DataFrame(labels_meta_rows)\n",
    "labels_meta_df.to_csv('Open_Organelle/fibsem_labels_meta.csv', index=False)"
   ]
  },
  {
   "cell_type": "code",
   "execution_count": 18,
   "id": "778c9885",
   "metadata": {},
   "outputs": [
    {
     "name": "stdout",
     "output_type": "stream",
     "text": [
      "| Resolution   | Voxel size (z, y, x)[nm]   | Translation (z, y, x)[nm]        |\n",
      "|:-------------|:---------------------------|:---------------------------------|\n",
      "| s0           | [23.68, 32.0, 32.0]        | [10.36, 14.0, 14.0]              |\n",
      "| s1           | [47.36, 64.0, 64.0]        | [22.2, 30.0, 30.0]               |\n",
      "| s2           | [94.72, 128.0, 128.0]      | [45.879999999999995, 62.0, 62.0] |\n"
     ]
    }
   ],
   "source": [
    "print(labels_meta_df.to_markdown(index=False))"
   ]
  }
 ],
 "metadata": {
  "kernelspec": {
   "display_name": "Summer",
   "language": "python",
   "name": "python3"
  },
  "language_info": {
   "codemirror_mode": {
    "name": "ipython",
    "version": 3
   },
   "file_extension": ".py",
   "mimetype": "text/x-python",
   "name": "python",
   "nbconvert_exporter": "python",
   "pygments_lexer": "ipython3",
   "version": "3.9.18"
  }
 },
 "nbformat": 4,
 "nbformat_minor": 5
}
