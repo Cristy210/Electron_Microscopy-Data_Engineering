{
 "cells": [
  {
   "cell_type": "markdown",
   "id": "8e616421",
   "metadata": {},
   "source": [
    "#### Import Packages"
   ]
  },
  {
   "cell_type": "code",
   "execution_count": 37,
   "id": "0ee10a9a",
   "metadata": {},
   "outputs": [],
   "source": [
    "from cloudvolume import CloudVolume\n",
    "import numpy as np\n",
    "import os\n",
    "import random\n",
    "import requests\n",
    "import tifffile\n",
    "import matplotlib.pyplot as plt\n",
    "import fsspec\n",
    "import zarr\n",
    "import dask.array as da"
   ]
  },
  {
   "cell_type": "code",
   "execution_count": 38,
   "id": "96b7df02",
   "metadata": {},
   "outputs": [
    {
     "name": "stdout",
     "output_type": "stream",
     "text": [
      "/Users/suhasmathey/HHMI_DataEng/Electron_Microscopy-Data_Engineering\n"
     ]
    }
   ],
   "source": [
    "cwd = os.getcwd()\n",
    "print(cwd)"
   ]
  },
  {
   "cell_type": "markdown",
   "id": "879e036e",
   "metadata": {},
   "source": [
    "#### FlyEM Hemibrain Dataset - Neuroglancer"
   ]
  },
  {
   "cell_type": "code",
   "execution_count": 39,
   "id": "7a331d7f",
   "metadata": {},
   "outputs": [],
   "source": [
    "volume = CloudVolume('precomputed://gs://neuroglancer-janelia-flyem-hemibrain/v1.0/segmentation', use_https=True, parallel=True)"
   ]
  },
  {
   "cell_type": "code",
   "execution_count": 40,
   "id": "3e27e892",
   "metadata": {},
   "outputs": [
    {
     "name": "stdout",
     "output_type": "stream",
     "text": [
      "FlyEM Hemibrain - Volume size (z, y, x): [34432 39552 41408]\n"
     ]
    }
   ],
   "source": [
    "print(\"FlyEM Hemibrain - Volume size (z, y, x):\", volume.bounds.maxpt)"
   ]
  },
  {
   "cell_type": "code",
   "execution_count": 41,
   "id": "fb23af2c",
   "metadata": {},
   "outputs": [],
   "source": [
    "crop_shape = np.array([1000, 1000, 1000])\n",
    "max_start = volume.bounds.maxpt - crop_shape\n",
    "start = np.array([random.randint(0, max_start[0]),\n",
    "                  random.randint(0, max_start[1]),\n",
    "                  random.randint(0, max_start[2])])\n",
    "end = start + crop_shape"
   ]
  },
  {
   "cell_type": "code",
   "execution_count": 42,
   "id": "e6004613",
   "metadata": {},
   "outputs": [
    {
     "name": "stderr",
     "output_type": "stream",
     "text": [
      "Downloading Bundles: 100%|██████████| 587/587 [00:01<00:00, 433.29it/s]\n",
      "Decompressing: 100%|██████████| 4913/4913 [00:00<00:00, 121783.47it/s]\n"
     ]
    }
   ],
   "source": [
    "img = volume[start[0]:end[0], start[1]:end[1], start[2]:end[2]]"
   ]
  },
  {
   "cell_type": "code",
   "execution_count": null,
   "id": "e96c4130",
   "metadata": {},
   "outputs": [],
   "source": [
    "img.shape"
   ]
  },
  {
   "cell_type": "code",
   "execution_count": 43,
   "id": "5e553a39",
   "metadata": {},
   "outputs": [
    {
     "name": "stdout",
     "output_type": "stream",
     "text": [
      "dict_keys(['@type', 'data_type', 'num_channels', 'scales', 'type', 'mesh', 'segment_name_map', 'segment_properties'])\n"
     ]
    }
   ],
   "source": [
    "print(volume.info.keys())"
   ]
  },
  {
   "cell_type": "code",
   "execution_count": 44,
   "id": "366eafac",
   "metadata": {},
   "outputs": [
    {
     "name": "stdout",
     "output_type": "stream",
     "text": [
      "Types:  neuroglancer_multiscale_volume\n",
      "Number of Channels:  1\n",
      "scale: {'chunk_sizes': [[64, 64, 64]], 'compressed_segmentation_block_size': [8, 8, 8], 'encoding': 'compressed_segmentation', 'key': '16.0x16.0x16.0', 'resolution': [16, 16, 16], 'sharding': {'@type': 'neuroglancer_uint64_sharded_v1', 'data_encoding': 'gzip', 'hash': 'identity', 'minishard_bits': 6, 'minishard_index_encoding': 'gzip', 'preshift_bits': 9, 'shard_bits': 12}, 'size': [17216, 19776, 20704]}\n",
      "Data type: uint64\n",
      "Segment Properties: segment_properties\n",
      "Type: segmentation\n",
      "Segment Name Map: names\n",
      "Mesh: mesh\n"
     ]
    }
   ],
   "source": [
    "print(\"Types: \", volume.info['@type'])\n",
    "print(\"Number of Channels: \", volume.info['num_channels'])\n",
    "print(\"scale:\", volume.info['scales'][1])\n",
    "print(\"Data type:\", volume.info['data_type'])\n",
    "print(\"Segment Properties:\", volume.info['segment_properties'])\n",
    "print(\"Type:\", volume.info['type'])\n",
    "print(\"Segment Name Map:\", volume.info['segment_name_map'])\n",
    "print(\"Mesh:\", volume.info['mesh'])\n"
   ]
  },
  {
   "cell_type": "markdown",
   "id": "4be5e2b4",
   "metadata": {},
   "source": [
    "### IDR Image Data"
   ]
  },
  {
   "cell_type": "code",
   "execution_count": null,
   "id": "1b582840",
   "metadata": {},
   "outputs": [],
   "source": [
    "# URL_XY = f\"https://idr.openmicroscopy.org/webclient/?show=project-1161#\"\n",
    "# U2OS_Data = requests.get(URL_XY)"
   ]
  },
  {
   "cell_type": "code",
   "execution_count": null,
   "id": "2f81e1da",
   "metadata": {},
   "outputs": [],
   "source": [
    "# with open(\"U2OS_Data.ome.tif\", \"wb\") as f:\n",
    "#     f.write(U2OS_Data.content)"
   ]
  },
  {
   "cell_type": "code",
   "execution_count": null,
   "id": "12cf1012",
   "metadata": {},
   "outputs": [],
   "source": [
    "# stack = tifffile.imread(\"U2OS_Data.ome.tif\")\n",
    "# print(\"Stack shape:\", stack.shape)\n",
    "# https://idr.openmicroscopy.org/webclient/?show=dataset-10740#"
   ]
  },
  {
   "cell_type": "markdown",
   "id": "84295f69",
   "metadata": {},
   "source": [
    "### Mouse nucleus accumbens - OpenOrganelle"
   ]
  },
  {
   "cell_type": "code",
   "execution_count": 64,
   "id": "288acfe0",
   "metadata": {},
   "outputs": [],
   "source": [
    "store = fsspec.get_mapper('s3://janelia-cosem-datasets/jrc_mus-nacc-2/jrc_mus-nacc-2.zarr', anon=True)\n",
    "group = zarr.open(store, mode='r')"
   ]
  },
  {
   "cell_type": "code",
   "execution_count": 65,
   "id": "39dcde83",
   "metadata": {},
   "outputs": [
    {
     "name": "stdout",
     "output_type": "stream",
     "text": [
      "<class 'zarr.hierarchy.Group'>\n"
     ]
    }
   ],
   "source": [
    "print(type(group))"
   ]
  },
  {
   "cell_type": "code",
   "execution_count": 66,
   "id": "680c259d",
   "metadata": {},
   "outputs": [
    {
     "name": "stdout",
     "output_type": "stream",
     "text": [
      "['recon-2', 'recon-2']\n"
     ]
    }
   ],
   "source": [
    "print(list(group.group_keys()))"
   ]
  },
  {
   "cell_type": "code",
   "execution_count": 67,
   "id": "5096c6fa",
   "metadata": {},
   "outputs": [
    {
     "name": "stdout",
     "output_type": "stream",
     "text": [
      "/\n",
      " ├── recon-2\n",
      " │   ├── em\n",
      " │   │   ├── fibsem-int16\n",
      " │   │   │   ├── s0 (564, 2520, 2596) int16\n",
      " │   │   │   ├── s0 (564, 2520, 2596) int16\n",
      " │   │   │   ├── s1 (282, 1260, 1298) int16\n",
      " │   │   │   ├── s1 (282, 1260, 1298) int16\n",
      " │   │   │   ├── s2 (141, 630, 649) int16\n",
      " │   │   │   ├── s2 (141, 630, 649) int16\n",
      " │   │   │   ├── s3 (70, 315, 324) int16\n",
      " │   │   │   ├── s3 (70, 315, 324) int16\n",
      " │   │   │   ├── s4 (35, 157, 162) int16\n",
      " │   │   │   ├── s4 (35, 157, 162) int16\n",
      " │   │   │   ├── s5 (17, 78, 81) int16\n",
      " │   │   │   ├── s5 (17, 78, 81) int16\n",
      " │   │   │   ├── s6 (8, 39, 40) int16\n",
      " │   │   │   ├── s6 (8, 39, 40) int16\n",
      " │   │   │   ├── s7 (4, 19, 20) int16\n",
      " │   │   │   ├── s7 (4, 19, 20) int16\n",
      " │   │   │   ├── s8 (2, 9, 10) int16\n",
      " │   │   │   └── s8 (2, 9, 10) int16\n",
      " │   │   └── fibsem-int16\n",
      " │   │       ├── s0 (564, 2520, 2596) int16\n",
      " │   │       ├── s0 (564, 2520, 2596) int16\n",
      " │   │       ├── s1 (282, 1260, 1298) int16\n",
      " │   │       ├── s1 (282, 1260, 1298) int16\n",
      " │   │       ├── s2 (141, 630, 649) int16\n",
      " │   │       ├── s2 (141, 630, 649) int16\n",
      " │   │       ├── s3 (70, 315, 324) int16\n",
      " │   │       ├── s3 (70, 315, 324) int16\n",
      " │   │       ├── s4 (35, 157, 162) int16\n",
      " │   │       ├── s4 (35, 157, 162) int16\n",
      " │   │       ├── s5 (17, 78, 81) int16\n",
      " │   │       ├── s5 (17, 78, 81) int16\n",
      " │   │       ├── s6 (8, 39, 40) int16\n",
      " │   │       ├── s6 (8, 39, 40) int16\n",
      " │   │       ├── s7 (4, 19, 20) int16\n",
      " │   │       ├── s7 (4, 19, 20) int16\n",
      " │   │       ├── s8 (2, 9, 10) int16\n",
      " │   │       └── s8 (2, 9, 10) int16\n",
      " │   ├── em\n",
      " │   │   ├── fibsem-int16\n",
      " │   │   │   ├── s0 (564, 2520, 2596) int16\n",
      " │   │   │   ├── s0 (564, 2520, 2596) int16\n",
      " │   │   │   ├── s1 (282, 1260, 1298) int16\n",
      " │   │   │   ├── s1 (282, 1260, 1298) int16\n",
      " │   │   │   ├── s2 (141, 630, 649) int16\n",
      " │   │   │   ├── s2 (141, 630, 649) int16\n",
      " │   │   │   ├── s3 (70, 315, 324) int16\n",
      " │   │   │   ├── s3 (70, 315, 324) int16\n",
      " │   │   │   ├── s4 (35, 157, 162) int16\n",
      " │   │   │   ├── s4 (35, 157, 162) int16\n",
      " │   │   │   ├── s5 (17, 78, 81) int16\n",
      " │   │   │   ├── s5 (17, 78, 81) int16\n",
      " │   │   │   ├── s6 (8, 39, 40) int16\n",
      " │   │   │   ├── s6 (8, 39, 40) int16\n",
      " │   │   │   ├── s7 (4, 19, 20) int16\n",
      " │   │   │   ├── s7 (4, 19, 20) int16\n",
      " │   │   │   ├── s8 (2, 9, 10) int16\n",
      " │   │   │   └── s8 (2, 9, 10) int16\n",
      " │   │   └── fibsem-int16\n",
      " │   │       ├── s0 (564, 2520, 2596) int16\n",
      " │   │       ├── s0 (564, 2520, 2596) int16\n",
      " │   │       ├── s1 (282, 1260, 1298) int16\n",
      " │   │       ├── s1 (282, 1260, 1298) int16\n",
      " │   │       ├── s2 (141, 630, 649) int16\n",
      " │   │       ├── s2 (141, 630, 649) int16\n",
      " │   │       ├── s3 (70, 315, 324) int16\n",
      " │   │       ├── s3 (70, 315, 324) int16\n",
      " │   │       ├── s4 (35, 157, 162) int16\n",
      " │   │       ├── s4 (35, 157, 162) int16\n",
      " │   │       ├── s5 (17, 78, 81) int16\n",
      " │   │       ├── s5 (17, 78, 81) int16\n",
      " │   │       ├── s6 (8, 39, 40) int16\n",
      " │   │       ├── s6 (8, 39, 40) int16\n",
      " │   │       ├── s7 (4, 19, 20) int16\n",
      " │   │       ├── s7 (4, 19, 20) int16\n",
      " │   │       ├── s8 (2, 9, 10) int16\n",
      " │   │       └── s8 (2, 9, 10) int16\n",
      " │   ├── labels\n",
      " │   │   ├── inference\n",
      " │   │   │   ├── segmentations\n",
      " │   │   │   │   ├── nuc\n",
      " │   │   │   │   │   ├── s0 (70, 315, 324) uint8\n",
      " │   │   │   │   │   ├── s0 (70, 315, 324) uint8\n",
      " │   │   │   │   │   ├── s1 (35, 157, 162) uint8\n",
      " │   │   │   │   │   ├── s1 (35, 157, 162) uint8\n",
      " │   │   │   │   │   ├── s2 (17, 78, 81) uint8\n",
      " │   │   │   │   │   └── s2 (17, 78, 81) uint8\n",
      " │   │   │   │   └── nuc\n",
      " │   │   │   │       ├── s0 (70, 315, 324) uint8\n",
      " │   │   │   │       ├── s0 (70, 315, 324) uint8\n",
      " │   │   │   │       ├── s1 (35, 157, 162) uint8\n",
      " │   │   │   │       ├── s1 (35, 157, 162) uint8\n",
      " │   │   │   │       ├── s2 (17, 78, 81) uint8\n",
      " │   │   │   │       └── s2 (17, 78, 81) uint8\n",
      " │   │   │   └── segmentations\n",
      " │   │   │       ├── nuc\n",
      " │   │   │       │   ├── s0 (70, 315, 324) uint8\n",
      " │   │   │       │   ├── s0 (70, 315, 324) uint8\n",
      " │   │   │       │   ├── s1 (35, 157, 162) uint8\n",
      " │   │   │       │   ├── s1 (35, 157, 162) uint8\n",
      " │   │   │       │   ├── s2 (17, 78, 81) uint8\n",
      " │   │   │       │   └── s2 (17, 78, 81) uint8\n",
      " │   │   │       └── nuc\n",
      " │   │   │           ├── s0 (70, 315, 324) uint8\n",
      " │   │   │           ├── s0 (70, 315, 324) uint8\n",
      " │   │   │           ├── s1 (35, 157, 162) uint8\n",
      " │   │   │           ├── s1 (35, 157, 162) uint8\n",
      " │   │   │           ├── s2 (17, 78, 81) uint8\n",
      " │   │   │           └── s2 (17, 78, 81) uint8\n",
      " │   │   └── inference\n",
      " │   │       ├── segmentations\n",
      " │   │       │   ├── nuc\n",
      " │   │       │   │   ├── s0 (70, 315, 324) uint8\n",
      " │   │       │   │   ├── s0 (70, 315, 324) uint8\n",
      " │   │       │   │   ├── s1 (35, 157, 162) uint8\n",
      " │   │       │   │   ├── s1 (35, 157, 162) uint8\n",
      " │   │       │   │   ├── s2 (17, 78, 81) uint8\n",
      " │   │       │   │   └── s2 (17, 78, 81) uint8\n",
      " │   │       │   └── nuc\n",
      " │   │       │       ├── s0 (70, 315, 324) uint8\n",
      " │   │       │       ├── s0 (70, 315, 324) uint8\n",
      " │   │       │       ├── s1 (35, 157, 162) uint8\n",
      " │   │       │       ├── s1 (35, 157, 162) uint8\n",
      " │   │       │       ├── s2 (17, 78, 81) uint8\n",
      " │   │       │       └── s2 (17, 78, 81) uint8\n",
      " │   │       └── segmentations\n",
      " │   │           ├── nuc\n",
      " │   │           │   ├── s0 (70, 315, 324) uint8\n",
      " │   │           │   ├── s0 (70, 315, 324) uint8\n",
      " │   │           │   ├── s1 (35, 157, 162) uint8\n",
      " │   │           │   ├── s1 (35, 157, 162) uint8\n",
      " │   │           │   ├── s2 (17, 78, 81) uint8\n",
      " │   │           │   └── s2 (17, 78, 81) uint8\n",
      " │   │           └── nuc\n",
      " │   │               ├── s0 (70, 315, 324) uint8\n",
      " │   │               ├── s0 (70, 315, 324) uint8\n",
      " │   │               ├── s1 (35, 157, 162) uint8\n",
      " │   │               ├── s1 (35, 157, 162) uint8\n",
      " │   │               ├── s2 (17, 78, 81) uint8\n",
      " │   │               └── s2 (17, 78, 81) uint8\n",
      " │   └── labels\n",
      " │       ├── inference\n",
      " │       │   ├── segmentations\n",
      " │       │   │   ├── nuc\n",
      " │       │   │   │   ├── s0 (70, 315, 324) uint8\n",
      " │       │   │   │   ├── s0 (70, 315, 324) uint8\n",
      " │       │   │   │   ├── s1 (35, 157, 162) uint8\n",
      " │       │   │   │   ├── s1 (35, 157, 162) uint8\n",
      " │       │   │   │   ├── s2 (17, 78, 81) uint8\n",
      " │       │   │   │   └── s2 (17, 78, 81) uint8\n",
      " │       │   │   └── nuc\n",
      " │       │   │       ├── s0 (70, 315, 324) uint8\n",
      " │       │   │       ├── s0 (70, 315, 324) uint8\n",
      " │       │   │       ├── s1 (35, 157, 162) uint8\n",
      " │       │   │       ├── s1 (35, 157, 162) uint8\n",
      " │       │   │       ├── s2 (17, 78, 81) uint8\n",
      " │       │   │       └── s2 (17, 78, 81) uint8\n",
      " │       │   └── segmentations\n",
      " │       │       ├── nuc\n",
      " │       │       │   ├── s0 (70, 315, 324) uint8\n",
      " │       │       │   ├── s0 (70, 315, 324) uint8\n",
      " │       │       │   ├── s1 (35, 157, 162) uint8\n",
      " │       │       │   ├── s1 (35, 157, 162) uint8\n",
      " │       │       │   ├── s2 (17, 78, 81) uint8\n",
      " │       │       │   └── s2 (17, 78, 81) uint8\n",
      " │       │       └── nuc\n",
      " │       │           ├── s0 (70, 315, 324) uint8\n",
      " │       │           ├── s0 (70, 315, 324) uint8\n",
      " │       │           ├── s1 (35, 157, 162) uint8\n",
      " │       │           ├── s1 (35, 157, 162) uint8\n",
      " │       │           ├── s2 (17, 78, 81) uint8\n",
      " │       │           └── s2 (17, 78, 81) uint8\n",
      " │       └── inference\n",
      " │           ├── segmentations\n",
      " │           │   ├── nuc\n",
      " │           │   │   ├── s0 (70, 315, 324) uint8\n",
      " │           │   │   ├── s0 (70, 315, 324) uint8\n",
      " │           │   │   ├── s1 (35, 157, 162) uint8\n",
      " │           │   │   ├── s1 (35, 157, 162) uint8\n",
      " │           │   │   ├── s2 (17, 78, 81) uint8\n",
      " │           │   │   └── s2 (17, 78, 81) uint8\n",
      " │           │   └── nuc\n",
      " │           │       ├── s0 (70, 315, 324) uint8\n",
      " │           │       ├── s0 (70, 315, 324) uint8\n",
      " │           │       ├── s1 (35, 157, 162) uint8\n",
      " │           │       ├── s1 (35, 157, 162) uint8\n",
      " │           │       ├── s2 (17, 78, 81) uint8\n",
      " │           │       └── s2 (17, 78, 81) uint8\n",
      " │           └── segmentations\n",
      " │               ├── nuc\n",
      " │               │   ├── s0 (70, 315, 324) uint8\n",
      " │               │   ├── s0 (70, 315, 324) uint8\n",
      " │               │   ├── s1 (35, 157, 162) uint8\n",
      " │               │   ├── s1 (35, 157, 162) uint8\n",
      " │               │   ├── s2 (17, 78, 81) uint8\n",
      " │               │   └── s2 (17, 78, 81) uint8\n",
      " │               └── nuc\n",
      " │                   ├── s0 (70, 315, 324) uint8\n",
      " │                   ├── s0 (70, 315, 324) uint8\n",
      " │                   ├── s1 (35, 157, 162) uint8\n",
      " │                   ├── s1 (35, 157, 162) uint8\n",
      " │                   ├── s2 (17, 78, 81) uint8\n",
      " │                   └── s2 (17, 78, 81) uint8\n",
      " └── recon-2\n",
      "     ├── em\n",
      "     │   ├── fibsem-int16\n",
      "     │   │   ├── s0 (564, 2520, 2596) int16\n",
      "     │   │   ├── s0 (564, 2520, 2596) int16\n",
      "     │   │   ├── s1 (282, 1260, 1298) int16\n",
      "     │   │   ├── s1 (282, 1260, 1298) int16\n",
      "     │   │   ├── s2 (141, 630, 649) int16\n",
      "     │   │   ├── s2 (141, 630, 649) int16\n",
      "     │   │   ├── s3 (70, 315, 324) int16\n",
      "     │   │   ├── s3 (70, 315, 324) int16\n",
      "     │   │   ├── s4 (35, 157, 162) int16\n",
      "     │   │   ├── s4 (35, 157, 162) int16\n",
      "     │   │   ├── s5 (17, 78, 81) int16\n",
      "     │   │   ├── s5 (17, 78, 81) int16\n",
      "     │   │   ├── s6 (8, 39, 40) int16\n",
      "     │   │   ├── s6 (8, 39, 40) int16\n",
      "     │   │   ├── s7 (4, 19, 20) int16\n",
      "     │   │   ├── s7 (4, 19, 20) int16\n",
      "     │   │   ├── s8 (2, 9, 10) int16\n",
      "     │   │   └── s8 (2, 9, 10) int16\n",
      "     │   └── fibsem-int16\n",
      "     │       ├── s0 (564, 2520, 2596) int16\n",
      "     │       ├── s0 (564, 2520, 2596) int16\n",
      "     │       ├── s1 (282, 1260, 1298) int16\n",
      "     │       ├── s1 (282, 1260, 1298) int16\n",
      "     │       ├── s2 (141, 630, 649) int16\n",
      "     │       ├── s2 (141, 630, 649) int16\n",
      "     │       ├── s3 (70, 315, 324) int16\n",
      "     │       ├── s3 (70, 315, 324) int16\n",
      "     │       ├── s4 (35, 157, 162) int16\n",
      "     │       ├── s4 (35, 157, 162) int16\n",
      "     │       ├── s5 (17, 78, 81) int16\n",
      "     │       ├── s5 (17, 78, 81) int16\n",
      "     │       ├── s6 (8, 39, 40) int16\n",
      "     │       ├── s6 (8, 39, 40) int16\n",
      "     │       ├── s7 (4, 19, 20) int16\n",
      "     │       ├── s7 (4, 19, 20) int16\n",
      "     │       ├── s8 (2, 9, 10) int16\n",
      "     │       └── s8 (2, 9, 10) int16\n",
      "     ├── em\n",
      "     │   ├── fibsem-int16\n",
      "     │   │   ├── s0 (564, 2520, 2596) int16\n",
      "     │   │   ├── s0 (564, 2520, 2596) int16\n",
      "     │   │   ├── s1 (282, 1260, 1298) int16\n",
      "     │   │   ├── s1 (282, 1260, 1298) int16\n",
      "     │   │   ├── s2 (141, 630, 649) int16\n",
      "     │   │   ├── s2 (141, 630, 649) int16\n",
      "     │   │   ├── s3 (70, 315, 324) int16\n",
      "     │   │   ├── s3 (70, 315, 324) int16\n",
      "     │   │   ├── s4 (35, 157, 162) int16\n",
      "     │   │   ├── s4 (35, 157, 162) int16\n",
      "     │   │   ├── s5 (17, 78, 81) int16\n",
      "     │   │   ├── s5 (17, 78, 81) int16\n",
      "     │   │   ├── s6 (8, 39, 40) int16\n",
      "     │   │   ├── s6 (8, 39, 40) int16\n",
      "     │   │   ├── s7 (4, 19, 20) int16\n",
      "     │   │   ├── s7 (4, 19, 20) int16\n",
      "     │   │   ├── s8 (2, 9, 10) int16\n",
      "     │   │   └── s8 (2, 9, 10) int16\n",
      "     │   └── fibsem-int16\n",
      "     │       ├── s0 (564, 2520, 2596) int16\n",
      "     │       ├── s0 (564, 2520, 2596) int16\n",
      "     │       ├── s1 (282, 1260, 1298) int16\n",
      "     │       ├── s1 (282, 1260, 1298) int16\n",
      "     │       ├── s2 (141, 630, 649) int16\n",
      "     │       ├── s2 (141, 630, 649) int16\n",
      "     │       ├── s3 (70, 315, 324) int16\n",
      "     │       ├── s3 (70, 315, 324) int16\n",
      "     │       ├── s4 (35, 157, 162) int16\n",
      "     │       ├── s4 (35, 157, 162) int16\n",
      "     │       ├── s5 (17, 78, 81) int16\n",
      "     │       ├── s5 (17, 78, 81) int16\n",
      "     │       ├── s6 (8, 39, 40) int16\n",
      "     │       ├── s6 (8, 39, 40) int16\n",
      "     │       ├── s7 (4, 19, 20) int16\n",
      "     │       ├── s7 (4, 19, 20) int16\n",
      "     │       ├── s8 (2, 9, 10) int16\n",
      "     │       └── s8 (2, 9, 10) int16\n",
      "     ├── labels\n",
      "     │   ├── inference\n",
      "     │   │   ├── segmentations\n",
      "     │   │   │   ├── nuc\n",
      "     │   │   │   │   ├── s0 (70, 315, 324) uint8\n",
      "     │   │   │   │   ├── s0 (70, 315, 324) uint8\n",
      "     │   │   │   │   ├── s1 (35, 157, 162) uint8\n",
      "     │   │   │   │   ├── s1 (35, 157, 162) uint8\n",
      "     │   │   │   │   ├── s2 (17, 78, 81) uint8\n",
      "     │   │   │   │   └── s2 (17, 78, 81) uint8\n",
      "     │   │   │   └── nuc\n",
      "     │   │   │       ├── s0 (70, 315, 324) uint8\n",
      "     │   │   │       ├── s0 (70, 315, 324) uint8\n",
      "     │   │   │       ├── s1 (35, 157, 162) uint8\n",
      "     │   │   │       ├── s1 (35, 157, 162) uint8\n",
      "     │   │   │       ├── s2 (17, 78, 81) uint8\n",
      "     │   │   │       └── s2 (17, 78, 81) uint8\n",
      "     │   │   └── segmentations\n",
      "     │   │       ├── nuc\n",
      "     │   │       │   ├── s0 (70, 315, 324) uint8\n",
      "     │   │       │   ├── s0 (70, 315, 324) uint8\n",
      "     │   │       │   ├── s1 (35, 157, 162) uint8\n",
      "     │   │       │   ├── s1 (35, 157, 162) uint8\n",
      "     │   │       │   ├── s2 (17, 78, 81) uint8\n",
      "     │   │       │   └── s2 (17, 78, 81) uint8\n",
      "     │   │       └── nuc\n",
      "     │   │           ├── s0 (70, 315, 324) uint8\n",
      "     │   │           ├── s0 (70, 315, 324) uint8\n",
      "     │   │           ├── s1 (35, 157, 162) uint8\n",
      "     │   │           ├── s1 (35, 157, 162) uint8\n",
      "     │   │           ├── s2 (17, 78, 81) uint8\n",
      "     │   │           └── s2 (17, 78, 81) uint8\n",
      "     │   └── inference\n",
      "     │       ├── segmentations\n",
      "     │       │   ├── nuc\n",
      "     │       │   │   ├── s0 (70, 315, 324) uint8\n",
      "     │       │   │   ├── s0 (70, 315, 324) uint8\n",
      "     │       │   │   ├── s1 (35, 157, 162) uint8\n",
      "     │       │   │   ├── s1 (35, 157, 162) uint8\n",
      "     │       │   │   ├── s2 (17, 78, 81) uint8\n",
      "     │       │   │   └── s2 (17, 78, 81) uint8\n",
      "     │       │   └── nuc\n",
      "     │       │       ├── s0 (70, 315, 324) uint8\n",
      "     │       │       ├── s0 (70, 315, 324) uint8\n",
      "     │       │       ├── s1 (35, 157, 162) uint8\n",
      "     │       │       ├── s1 (35, 157, 162) uint8\n",
      "     │       │       ├── s2 (17, 78, 81) uint8\n",
      "     │       │       └── s2 (17, 78, 81) uint8\n",
      "     │       └── segmentations\n",
      "     │           ├── nuc\n",
      "     │           │   ├── s0 (70, 315, 324) uint8\n",
      "     │           │   ├── s0 (70, 315, 324) uint8\n",
      "     │           │   ├── s1 (35, 157, 162) uint8\n",
      "     │           │   ├── s1 (35, 157, 162) uint8\n",
      "     │           │   ├── s2 (17, 78, 81) uint8\n",
      "     │           │   └── s2 (17, 78, 81) uint8\n",
      "     │           └── nuc\n",
      "     │               ├── s0 (70, 315, 324) uint8\n",
      "     │               ├── s0 (70, 315, 324) uint8\n",
      "     │               ├── s1 (35, 157, 162) uint8\n",
      "     │               ├── s1 (35, 157, 162) uint8\n",
      "     │               ├── s2 (17, 78, 81) uint8\n",
      "     │               └── s2 (17, 78, 81) uint8\n",
      "     └── labels\n",
      "         ├── inference\n",
      "         │   ├── segmentations\n",
      "         │   │   ├── nuc\n",
      "         │   │   │   ├── s0 (70, 315, 324) uint8\n",
      "         │   │   │   ├── s0 (70, 315, 324) uint8\n",
      "         │   │   │   ├── s1 (35, 157, 162) uint8\n",
      "         │   │   │   ├── s1 (35, 157, 162) uint8\n",
      "         │   │   │   ├── s2 (17, 78, 81) uint8\n",
      "         │   │   │   └── s2 (17, 78, 81) uint8\n",
      "         │   │   └── nuc\n",
      "         │   │       ├── s0 (70, 315, 324) uint8\n",
      "         │   │       ├── s0 (70, 315, 324) uint8\n",
      "         │   │       ├── s1 (35, 157, 162) uint8\n",
      "         │   │       ├── s1 (35, 157, 162) uint8\n",
      "         │   │       ├── s2 (17, 78, 81) uint8\n",
      "         │   │       └── s2 (17, 78, 81) uint8\n",
      "         │   └── segmentations\n",
      "         │       ├── nuc\n",
      "         │       │   ├── s0 (70, 315, 324) uint8\n",
      "         │       │   ├── s0 (70, 315, 324) uint8\n",
      "         │       │   ├── s1 (35, 157, 162) uint8\n",
      "         │       │   ├── s1 (35, 157, 162) uint8\n",
      "         │       │   ├── s2 (17, 78, 81) uint8\n",
      "         │       │   └── s2 (17, 78, 81) uint8\n",
      "         │       └── nuc\n",
      "         │           ├── s0 (70, 315, 324) uint8\n",
      "         │           ├── s0 (70, 315, 324) uint8\n",
      "         │           ├── s1 (35, 157, 162) uint8\n",
      "         │           ├── s1 (35, 157, 162) uint8\n",
      "         │           ├── s2 (17, 78, 81) uint8\n",
      "         │           └── s2 (17, 78, 81) uint8\n",
      "         └── inference\n",
      "             ├── segmentations\n",
      "             │   ├── nuc\n",
      "             │   │   ├── s0 (70, 315, 324) uint8\n",
      "             │   │   ├── s0 (70, 315, 324) uint8\n",
      "             │   │   ├── s1 (35, 157, 162) uint8\n",
      "             │   │   ├── s1 (35, 157, 162) uint8\n",
      "             │   │   ├── s2 (17, 78, 81) uint8\n",
      "             │   │   └── s2 (17, 78, 81) uint8\n",
      "             │   └── nuc\n",
      "             │       ├── s0 (70, 315, 324) uint8\n",
      "             │       ├── s0 (70, 315, 324) uint8\n",
      "             │       ├── s1 (35, 157, 162) uint8\n",
      "             │       ├── s1 (35, 157, 162) uint8\n",
      "             │       ├── s2 (17, 78, 81) uint8\n",
      "             │       └── s2 (17, 78, 81) uint8\n",
      "             └── segmentations\n",
      "                 ├── nuc\n",
      "                 │   ├── s0 (70, 315, 324) uint8\n",
      "                 │   ├── s0 (70, 315, 324) uint8\n",
      "                 │   ├── s1 (35, 157, 162) uint8\n",
      "                 │   ├── s1 (35, 157, 162) uint8\n",
      "                 │   ├── s2 (17, 78, 81) uint8\n",
      "                 │   └── s2 (17, 78, 81) uint8\n",
      "                 └── nuc\n",
      "                     ├── s0 (70, 315, 324) uint8\n",
      "                     ├── s0 (70, 315, 324) uint8\n",
      "                     ├── s1 (35, 157, 162) uint8\n",
      "                     ├── s1 (35, 157, 162) uint8\n",
      "                     ├── s2 (17, 78, 81) uint8\n",
      "                     └── s2 (17, 78, 81) uint8\n"
     ]
    }
   ],
   "source": [
    "print(group.tree())"
   ]
  },
  {
   "cell_type": "code",
   "execution_count": 26,
   "id": "1408cc8d",
   "metadata": {},
   "outputs": [],
   "source": [
    "zdata = group['recon-2/em/fibsem-int16/s0']"
   ]
  },
  {
   "cell_type": "code",
   "execution_count": 27,
   "id": "9d2aef88",
   "metadata": {},
   "outputs": [
    {
     "name": "stdout",
     "output_type": "stream",
     "text": [
      "Shape: (564, 2520, 2596)\n"
     ]
    }
   ],
   "source": [
    "print(\"Shape:\", zdata.shape)"
   ]
  },
  {
   "cell_type": "code",
   "execution_count": 49,
   "id": "84c9d07e",
   "metadata": {},
   "outputs": [
    {
     "name": "stdout",
     "output_type": "stream",
     "text": [
      "{'multiscales': [{'axes': [{'name': 'z', 'type': 'space', 'unit': 'nanometer'}, {'name': 'y', 'type': 'space', 'unit': 'nanometer'}, {'name': 'x', 'type': 'space', 'unit': 'nanometer'}], 'coordinateTransformations': [{'scale': [1.0, 1.0, 1.0], 'type': 'scale'}], 'datasets': [{'coordinateTransformations': [{'scale': [2.96, 4.0, 4.0], 'type': 'scale'}, {'translation': [0.0, 0.0, 0.0], 'type': 'translation'}], 'path': 's0'}, {'coordinateTransformations': [{'scale': [5.92, 8.0, 8.0], 'type': 'scale'}, {'translation': [1.48, 2.0, 2.0], 'type': 'translation'}], 'path': 's1'}, {'coordinateTransformations': [{'scale': [11.840000000000002, 16.0, 16.0], 'type': 'scale'}, {'translation': [4.4399999999999995, 6.0, 6.0], 'type': 'translation'}], 'path': 's2'}, {'coordinateTransformations': [{'scale': [23.68, 32.0, 32.0], 'type': 'scale'}, {'translation': [10.36, 14.0, 14.0], 'type': 'translation'}], 'path': 's3'}, {'coordinateTransformations': [{'scale': [47.36, 64.0, 64.0], 'type': 'scale'}, {'translation': [22.2, 30.0, 30.0], 'type': 'translation'}], 'path': 's4'}, {'coordinateTransformations': [{'scale': [94.72, 128.0, 128.0], 'type': 'scale'}, {'translation': [45.88, 62.0, 62.0], 'type': 'translation'}], 'path': 's5'}, {'coordinateTransformations': [{'scale': [189.44, 256.0, 256.0], 'type': 'scale'}, {'translation': [93.24, 126.0, 126.0], 'type': 'translation'}], 'path': 's6'}, {'coordinateTransformations': [{'scale': [378.8799999999999, 512.0, 512.0], 'type': 'scale'}, {'translation': [187.96, 254.0, 254.0], 'type': 'translation'}], 'path': 's7'}, {'coordinateTransformations': [{'scale': [757.7599999999999, 1024.0, 1024.0], 'type': 'scale'}, {'translation': [377.4, 510.0, 510.0], 'type': 'translation'}], 'path': 's8'}], 'metadata': None, 'name': '', 'type': None, 'version': '0.4'}]}\n"
     ]
    }
   ],
   "source": [
    "attrs = print(group['recon-2']['em']['fibsem-int16'].attrs.asdict())"
   ]
  },
  {
   "cell_type": "code",
   "execution_count": 59,
   "id": "550a7282",
   "metadata": {},
   "outputs": [
    {
     "name": "stdout",
     "output_type": "stream",
     "text": [
      "{'cellmap': {'annotation': {'annotation_type': {'encoding': {'absent': 0, 'unknown': 255}, 'type': 'instance_segmentation'}, 'class_name': 'nuc'}}, 'multiscales': [{'axes': [{'name': 'z', 'type': 'space', 'unit': 'nanometer'}, {'name': 'y', 'type': 'space', 'unit': 'nanometer'}, {'name': 'x', 'type': 'space', 'unit': 'nanometer'}], 'coordinateTransformations': [{'scale': [1.0, 1.0, 1.0], 'type': 'scale'}], 'datasets': [{'coordinateTransformations': [{'scale': [23.68, 32.0, 32.0], 'type': 'scale'}, {'translation': [10.36, 14.0, 14.0], 'type': 'translation'}], 'path': 's0'}, {'coordinateTransformations': [{'scale': [47.36, 64.0, 64.0], 'type': 'scale'}, {'translation': [22.2, 30.0, 30.0], 'type': 'translation'}], 'path': 's1'}, {'coordinateTransformations': [{'scale': [94.72, 128.0, 128.0], 'type': 'scale'}, {'translation': [45.879999999999995, 62.0, 62.0], 'type': 'translation'}], 'path': 's2'}], 'name': '', 'version': '0.4'}]}\n"
     ]
    }
   ],
   "source": [
    "labels = print(group['recon-2']['labels']['inference']['segmentations']['nuc'].attrs.asdict())"
   ]
  },
  {
   "cell_type": "code",
   "execution_count": 48,
   "id": "e3f30600",
   "metadata": {},
   "outputs": [
    {
     "ename": "AttributeError",
     "evalue": "'NoneType' object has no attribute 'keys'",
     "output_type": "error",
     "traceback": [
      "\u001b[0;31m---------------------------------------------------------------------------\u001b[0m",
      "\u001b[0;31mAttributeError\u001b[0m                            Traceback (most recent call last)",
      "Cell \u001b[0;32mIn[48], line 1\u001b[0m\n\u001b[0;32m----> 1\u001b[0m \u001b[38;5;28mprint\u001b[39m(\u001b[38;5;28mlist\u001b[39m(\u001b[43mattrs\u001b[49m\u001b[38;5;241;43m.\u001b[39;49m\u001b[43mkeys\u001b[49m()))\n",
      "\u001b[0;31mAttributeError\u001b[0m: 'NoneType' object has no attribute 'keys'"
     ]
    }
   ],
   "source": [
    "print(list(attrs.keys()))"
   ]
  }
 ],
 "metadata": {
  "kernelspec": {
   "display_name": "Summer",
   "language": "python",
   "name": "python3"
  },
  "language_info": {
   "codemirror_mode": {
    "name": "ipython",
    "version": 3
   },
   "file_extension": ".py",
   "mimetype": "text/x-python",
   "name": "python",
   "nbconvert_exporter": "python",
   "pygments_lexer": "ipython3",
   "version": "3.9.18"
  }
 },
 "nbformat": 4,
 "nbformat_minor": 5
}
