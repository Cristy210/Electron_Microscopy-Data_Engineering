{
 "cells": [
  {
   "cell_type": "code",
   "execution_count": 17,
   "id": "544b2c08",
   "metadata": {},
   "outputs": [],
   "source": [
    "from cloudvolume import CloudVolume\n",
    "import numpy as np\n",
    "import os\n",
    "import random\n",
    "import requests\n",
    "from tifffile import TiffFile\n",
    "import matplotlib.pyplot as plt\n",
    "import fsspec\n",
    "import zarr\n",
    "import dask.array as da\n",
    "import pandas as pd\n",
    "from tqdm import tqdm"
   ]
  },
  {
   "cell_type": "code",
   "execution_count": 22,
   "id": "c5060a2e",
   "metadata": {},
   "outputs": [],
   "source": [
    "IMAGE_DETAILS_URL = \"{base}/webclient/imgData/{image_id}/\"\n",
    "\n",
    "IMAGE_ID = 9846137\n",
    "IDR_BASE_URL = \"https://idr.openmicroscopy.org\"\n",
    "\n",
    "qs = {'base': IDR_BASE_URL, 'image_id': IMAGE_ID}\n",
    "url = IMAGE_DETAILS_URL.format(**qs)\n",
    "r = requests.get(url)\n"
   ]
  },
  {
   "cell_type": "code",
   "execution_count": 23,
   "id": "0aedaaab",
   "metadata": {},
   "outputs": [
    {
     "data": {
      "text/plain": [
       "{'id': 9846137,\n",
       " 'meta': {'imageName': 'Figure_S3B_FIB-SEM_U2OS_20x20x20nm_xy.tif',\n",
       "  'imageDescription': '',\n",
       "  'imageAuthor': 'Public data',\n",
       "  'projectName': 'idr0086-miron-micrographs/experimentD',\n",
       "  'projectId': 1161,\n",
       "  'projectDescription': 'Publication Title\\nChromatin arranges in chains of mesoscale domains with nanoscale functional topography independent of cohesin\\n\\nExperiment Description\\nElectron Micrographs of the nucleus',\n",
       "  'datasetName': 'U2OS_chromatin',\n",
       "  'datasetId': 10740,\n",
       "  'datasetDescription': '',\n",
       "  'wellSampleId': '',\n",
       "  'wellId': '',\n",
       "  'imageTimestamp': 1594981020.0,\n",
       "  'imageId': 9846137,\n",
       "  'pixelsType': 'uint8'},\n",
       " 'perms': {'canAnnotate': False,\n",
       "  'canEdit': False,\n",
       "  'canDelete': False,\n",
       "  'canLink': False},\n",
       " 'tiles': False,\n",
       " 'interpolate': True,\n",
       " 'size': {'width': 1121, 'height': 775, 'z': 184, 't': 1, 'c': 1},\n",
       " 'pixel_size': {'x': 0.02, 'y': 0.02, 'z': 0.02},\n",
       " 'init_zoom': 0,\n",
       " 'pixel_range': [0, 255],\n",
       " 'channels': [{'emissionWave': None,\n",
       "   'label': '0',\n",
       "   'color': '808080',\n",
       "   'inverted': False,\n",
       "   'reverseIntensity': False,\n",
       "   'family': 'linear',\n",
       "   'coefficient': 1.0,\n",
       "   'window': {'min': 0.0, 'max': 182.0, 'start': 0.0, 'end': 182.0},\n",
       "   'active': True}],\n",
       " 'split_channel': {'g': {'width': 1125,\n",
       "   'height': 779,\n",
       "   'border': 2,\n",
       "   'gridx': 1,\n",
       "   'gridy': 1},\n",
       "  'c': {'width': 2248, 'height': 779, 'border': 2, 'gridx': 2, 'gridy': 1}},\n",
       " 'rdefs': {'model': 'greyscale',\n",
       "  'projection': 'normal',\n",
       "  'defaultZ': 92,\n",
       "  'defaultT': 0,\n",
       "  'invertAxis': False}}"
      ]
     },
     "execution_count": 23,
     "metadata": {},
     "output_type": "execute_result"
    }
   ],
   "source": [
    "r.json()"
   ]
  },
  {
   "cell_type": "code",
   "execution_count": 24,
   "id": "b57daeb1",
   "metadata": {},
   "outputs": [],
   "source": [
    "def flatten_dict(d, parent_key='', sep='.'):\n",
    "    items = []\n",
    "    for k, v in d.items():\n",
    "        new_key = f\"{parent_key}{sep}{k}\" if parent_key else k\n",
    "        if isinstance(v, dict):\n",
    "            items.extend(flatten_dict(v, new_key, sep=sep).items())\n",
    "        elif isinstance(v, list):\n",
    "            for i, item in enumerate(v):\n",
    "                if isinstance(item, dict):\n",
    "                    items.extend(flatten_dict(item, f\"{new_key}[{i}]\", sep=sep).items())\n",
    "                else:\n",
    "                    items.append((f\"{new_key}[{i}]\", item))\n",
    "        else:\n",
    "            items.append((new_key, v))\n",
    "    return dict(items)"
   ]
  },
  {
   "cell_type": "code",
   "execution_count": null,
   "id": "ed09e6cc",
   "metadata": {},
   "outputs": [],
   "source": [
    "meta_flat = flatten_dict(r.json())\n",
    "meta_df = pd.DataFrame(meta_flat.items(), columns=['Field', 'value'])\n",
    "meta_df.to_csv('IDR/idr_9846137_image_meta.csv', index=False)"
   ]
  },
  {
   "cell_type": "code",
   "execution_count": 28,
   "id": "c9838d76",
   "metadata": {},
   "outputs": [
    {
     "name": "stdout",
     "output_type": "stream",
     "text": [
      "| Field                        | value                                                                                                         |\n",
      "|:-----------------------------|:--------------------------------------------------------------------------------------------------------------|\n",
      "| id                           | 9846137                                                                                                       |\n",
      "| meta.imageName               | Figure_S3B_FIB-SEM_U2OS_20x20x20nm_xy.tif                                                                     |\n",
      "| meta.imageDescription        |                                                                                                               |\n",
      "| meta.imageAuthor             | Public data                                                                                                   |\n",
      "| meta.projectName             | idr0086-miron-micrographs/experimentD                                                                         |\n",
      "| meta.projectId               | 1161                                                                                                          |\n",
      "| meta.projectDescription      | Publication Title                                                                                             |\n",
      "|                              | Chromatin arranges in chains of mesoscale domains with nanoscale functional topography independent of cohesin |\n",
      "|                              |                                                                                                               |\n",
      "|                              | Experiment Description                                                                                        |\n",
      "|                              | Electron Micrographs of the nucleus                                                                           |\n",
      "| meta.datasetName             | U2OS_chromatin                                                                                                |\n",
      "| meta.datasetId               | 10740                                                                                                         |\n",
      "| meta.datasetDescription      |                                                                                                               |\n",
      "| meta.wellSampleId            |                                                                                                               |\n",
      "| meta.wellId                  |                                                                                                               |\n",
      "| meta.imageTimestamp          | 1594981020.0                                                                                                  |\n",
      "| meta.imageId                 | 9846137                                                                                                       |\n",
      "| meta.pixelsType              | uint8                                                                                                         |\n",
      "| perms.canAnnotate            | False                                                                                                         |\n",
      "| perms.canEdit                | False                                                                                                         |\n",
      "| perms.canDelete              | False                                                                                                         |\n",
      "| perms.canLink                | False                                                                                                         |\n",
      "| tiles                        | False                                                                                                         |\n",
      "| interpolate                  | True                                                                                                          |\n",
      "| size.width                   | 1121                                                                                                          |\n",
      "| size.height                  | 775                                                                                                           |\n",
      "| size.z                       | 184                                                                                                           |\n",
      "| size.t                       | 1                                                                                                             |\n",
      "| size.c                       | 1                                                                                                             |\n",
      "| pixel_size.x                 | 0.02                                                                                                          |\n",
      "| pixel_size.y                 | 0.02                                                                                                          |\n",
      "| pixel_size.z                 | 0.02                                                                                                          |\n",
      "| init_zoom                    | 0                                                                                                             |\n",
      "| pixel_range[0]               | 0                                                                                                             |\n",
      "| pixel_range[1]               | 255                                                                                                           |\n",
      "| channels[0].emissionWave     |                                                                                                               |\n",
      "| channels[0].label            | 0                                                                                                             |\n",
      "| channels[0].color            | 808080                                                                                                        |\n",
      "| channels[0].inverted         | False                                                                                                         |\n",
      "| channels[0].reverseIntensity | False                                                                                                         |\n",
      "| channels[0].family           | linear                                                                                                        |\n",
      "| channels[0].coefficient      | 1.0                                                                                                           |\n",
      "| channels[0].window.min       | 0.0                                                                                                           |\n",
      "| channels[0].window.max       | 182.0                                                                                                         |\n",
      "| channels[0].window.start     | 0.0                                                                                                           |\n",
      "| channels[0].window.end       | 182.0                                                                                                         |\n",
      "| channels[0].active           | True                                                                                                          |\n",
      "| split_channel.g.width        | 1125                                                                                                          |\n",
      "| split_channel.g.height       | 779                                                                                                           |\n",
      "| split_channel.g.border       | 2                                                                                                             |\n",
      "| split_channel.g.gridx        | 1                                                                                                             |\n",
      "| split_channel.g.gridy        | 1                                                                                                             |\n",
      "| split_channel.c.width        | 2248                                                                                                          |\n",
      "| split_channel.c.height       | 779                                                                                                           |\n",
      "| split_channel.c.border       | 2                                                                                                             |\n",
      "| split_channel.c.gridx        | 2                                                                                                             |\n",
      "| split_channel.c.gridy        | 1                                                                                                             |\n",
      "| rdefs.model                  | greyscale                                                                                                     |\n",
      "| rdefs.projection             | normal                                                                                                        |\n",
      "| rdefs.defaultZ               | 92                                                                                                            |\n",
      "| rdefs.defaultT               | 0                                                                                                             |\n",
      "| rdefs.invertAxis             | False                                                                                                         |\n"
     ]
    }
   ],
   "source": [
    "print(meta_df.to_markdown(index=False))"
   ]
  },
  {
   "cell_type": "code",
   "execution_count": null,
   "id": "2044e060",
   "metadata": {},
   "outputs": [],
   "source": []
  }
 ],
 "metadata": {
  "kernelspec": {
   "display_name": "Summer",
   "language": "python",
   "name": "python3"
  },
  "language_info": {
   "codemirror_mode": {
    "name": "ipython",
    "version": 3
   },
   "file_extension": ".py",
   "mimetype": "text/x-python",
   "name": "python",
   "nbconvert_exporter": "python",
   "pygments_lexer": "ipython3",
   "version": "3.9.18"
  }
 },
 "nbformat": 4,
 "nbformat_minor": 5
}
