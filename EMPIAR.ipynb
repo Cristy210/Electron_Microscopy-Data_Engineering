{
 "cells": [
  {
   "cell_type": "code",
   "execution_count": 1,
   "id": "c1b0242f",
   "metadata": {},
   "outputs": [],
   "source": [
    "from cloudvolume import CloudVolume\n",
    "import numpy as np\n",
    "import os\n",
    "import random\n",
    "import requests\n",
    "import tifffile\n",
    "import matplotlib.pyplot as plt\n",
    "import fsspec\n",
    "import zarr\n",
    "import dask.array as da\n",
    "import pandas as pd\n",
    "import xmltodict"
   ]
  },
  {
   "cell_type": "code",
   "execution_count": 2,
   "id": "bc55d87d",
   "metadata": {},
   "outputs": [],
   "source": [
    "XML_EMPIAR_URL = f\"https://ftp.ebi.ac.uk/pub/databases/emtest/empiar/headers/11759.xml\"\n",
    "xml_resp = requests.get(XML_EMPIAR_URL)"
   ]
  },
  {
   "cell_type": "code",
   "execution_count": 3,
   "id": "5201f877",
   "metadata": {},
   "outputs": [],
   "source": [
    "with open(\"empiar_meta_11759.xml\", \"wb\") as f:\n",
    "    f.write(xml_resp.content)"
   ]
  },
  {
   "cell_type": "code",
   "execution_count": 4,
   "id": "a245d60f",
   "metadata": {},
   "outputs": [],
   "source": [
    "with open(\"empiar_meta_11759.xml\", 'rb') as f:\n",
    "    xml_empiar = xmltodict.parse(f.read())"
   ]
  },
  {
   "cell_type": "code",
   "execution_count": 9,
   "id": "1e934570",
   "metadata": {},
   "outputs": [
    {
     "data": {
      "text/plain": [
       "dict_keys(['entry'])"
      ]
     },
     "execution_count": 9,
     "metadata": {},
     "output_type": "execute_result"
    }
   ],
   "source": [
    "xml_empiar.keys()"
   ]
  },
  {
   "cell_type": "code",
   "execution_count": 10,
   "id": "4114921a",
   "metadata": {},
   "outputs": [],
   "source": [
    "def flatten_dict(d, parent_key='', sep='.'):\n",
    "    items = []\n",
    "    for k, v in d.items():\n",
    "        new_key = f\"{parent_key}{sep}{k}\" if parent_key else k\n",
    "        if isinstance(v, dict):\n",
    "            items.extend(flatten_dict(v, new_key, sep=sep).items())\n",
    "        elif isinstance(v, list):\n",
    "            for i, item in enumerate(v):\n",
    "                if isinstance(item, dict):\n",
    "                    items.extend(flatten_dict(item, f\"{new_key}[{i}]\", sep=sep).items())\n",
    "                else:\n",
    "                    items.append((f\"{new_key}[{i}]\", item))\n",
    "        else:\n",
    "            items.append((new_key, v))\n",
    "    return dict(items)"
   ]
  },
  {
   "cell_type": "code",
   "execution_count": 11,
   "id": "5e93cb40",
   "metadata": {},
   "outputs": [],
   "source": [
    "meta_flat = flatten_dict(xml_empiar['entry'])"
   ]
  },
  {
   "cell_type": "code",
   "execution_count": null,
   "id": "8c9627f8",
   "metadata": {},
   "outputs": [],
   "source": [
    "meta_df = pd.DataFrame(meta_flat.items(), columns=['Field', 'value'])\n",
    "meta_df.to_csv(\"EMPIAR/empiar_meta_11759.csv\", index=False)"
   ]
  },
  {
   "cell_type": "code",
   "execution_count": 15,
   "id": "fe9036cc",
   "metadata": {},
   "outputs": [
    {
     "name": "stdout",
     "output_type": "stream",
     "text": [
      "| Field                                                                                 | value                                                                                                                                                            |\n",
      "|:--------------------------------------------------------------------------------------|:-----------------------------------------------------------------------------------------------------------------------------------------------------------------|\n",
      "| @xmlns                                                                                | http://pdbe.org/empiar                                                                                                                                           |\n",
      "| @xmlns:xsi                                                                            | http://www.w3.org/2001/XMLSchema-instance                                                                                                                        |\n",
      "| @xsi:schemaLocation                                                                   | https://ftp.ebi.ac.uk/pub/databases/emtest/empiar/schema/empiar.xsd                                                                                              |\n",
      "| @accessionCode                                                                        | EMPIAR-11759                                                                                                                                                     |\n",
      "| @schemaVersion                                                                        | 0.64                                                                                                                                                             |\n",
      "| @public                                                                               | true                                                                                                                                                             |\n",
      "| admin.currentStatus                                                                   | REL                                                                                                                                                              |\n",
      "| admin.keyDates.depositionDate                                                         | 2023-11-01                                                                                                                                                       |\n",
      "| admin.keyDates.releaseDate                                                            | 2024-01-15                                                                                                                                                       |\n",
      "| admin.keyDates.updateDate                                                             | 2024-01-15                                                                                                                                                       |\n",
      "| admin.title                                                                           | Developing retina in zebrafish 55 hpf larval eye.                                                                                                                |\n",
      "| admin.correspondingAuthor.@private                                                    | true                                                                                                                                                             |\n",
      "| admin.correspondingAuthor.firstName                                                   | Michaela                                                                                                                                                         |\n",
      "| admin.correspondingAuthor.lastName                                                    | Wilsch-Bräuninger                                                                                                                                                |\n",
      "| admin.correspondingAuthor.organization.@type                                          | academic                                                                                                                                                         |\n",
      "| admin.correspondingAuthor.organization.#text                                          | Max Planck Institute of Molecular Cell Biology and Genetics                                                                                                      |\n",
      "| admin.correspondingAuthor.townOrCity                                                  | Dresden                                                                                                                                                          |\n",
      "| admin.correspondingAuthor.country                                                     | Germany                                                                                                                                                          |\n",
      "| admin.correspondingAuthor.postOrZipCode                                               | 01307                                                                                                                                                            |\n",
      "| admin.principalInvestigator.@private                                                  | true                                                                                                                                                             |\n",
      "| admin.principalInvestigator.firstName                                                 | Michaela                                                                                                                                                         |\n",
      "| admin.principalInvestigator.lastName                                                  | Wilsch-Bräuninger                                                                                                                                                |\n",
      "| admin.principalInvestigator.organization.@type                                        | academic                                                                                                                                                         |\n",
      "| admin.principalInvestigator.organization.#text                                        | Max Planck Institute of Molecular Cell Biology and Genetics                                                                                                      |\n",
      "| admin.principalInvestigator.townOrCity                                                | Dresden                                                                                                                                                          |\n",
      "| admin.principalInvestigator.country                                                   | Germany                                                                                                                                                          |\n",
      "| admin.principalInvestigator.postOrZipCode                                             | 01307                                                                                                                                                            |\n",
      "| admin.authorsList.author                                                              | Wilsch-Bräuninger M                                                                                                                                              |\n",
      "| admin.grantSupport.grantReference.fundingBody                                         |                                                                                                                                                                  |\n",
      "| admin.grantSupport.grantReference.code                                                |                                                                                                                                                                  |\n",
      "| admin.grantSupport.grantReference.country                                             |                                                                                                                                                                  |\n",
      "| admin.datasetSize.@units                                                              | GB                                                                                                                                                               |\n",
      "| admin.datasetSize.#text                                                               | 1.2                                                                                                                                                              |\n",
      "| admin.entryDOI                                                                        | 10.6019/EMPIAR-11759                                                                                                                                             |\n",
      "| admin.experimentType                                                                  | SBF-SEM                                                                                                                                                          |\n",
      "| admin.scale                                                                           | tissue                                                                                                                                                           |\n",
      "| crossReferences.citationList.universalCitation.nonJournalCitation.@published          | false                                                                                                                                                            |\n",
      "| crossReferences.citationList.universalCitation.nonJournalCitation.author.@order       | 1                                                                                                                                                                |\n",
      "| crossReferences.citationList.universalCitation.nonJournalCitation.author.#text        | Wilsch-Bräuninger M                                                                                                                                              |\n",
      "| crossReferences.citationList.universalCitation.nonJournalCitation.bookTitle           | Developing retina in zebrafish 55 hpf larval eye.                                                                                                                |\n",
      "| crossReferences.citationList.universalCitation.nonJournalCitation.publisher           |                                                                                                                                                                  |\n",
      "| crossReferences.citationList.universalCitation.nonJournalCitation.publicationLocation |                                                                                                                                                                  |\n",
      "| crossReferences.citationList.universalCitation.nonJournalCitation.country             |                                                                                                                                                                  |\n",
      "| imageSet.name                                                                         | Developing retina in zebrafish 55 hpf larval eye.                                                                                                                |\n",
      "| imageSet.directory                                                                    | /data                                                                                                                                                            |\n",
      "| imageSet.category                                                                     | reconstructed volumes                                                                                                                                            |\n",
      "| imageSet.headerFormat                                                                 | DM3                                                                                                                                                              |\n",
      "| imageSet.dataFormat                                                                   | DM3                                                                                                                                                              |\n",
      "| imageSet.numImagesOrTiltSeries                                                        | 16                                                                                                                                                               |\n",
      "| imageSet.framesPerImage                                                               | 1                                                                                                                                                                |\n",
      "| imageSet.voxelType                                                                    | UNSIGNED BYTE                                                                                                                                                    |\n",
      "| imageSet.dimensions.imageWidth                                                        | 5628                                                                                                                                                             |\n",
      "| imageSet.dimensions.pixelWidth                                                        | 80.0                                                                                                                                                             |\n",
      "| imageSet.dimensions.imageHeight                                                       | 5632                                                                                                                                                             |\n",
      "| imageSet.dimensions.pixelHeight                                                       | 80.0                                                                                                                                                             |\n",
      "| imageSet.details                                                                      | Developing retina in zebrafish 55 hpf larval eye.                                                                                                                |\n",
      "|                                                                                       | It is a SBF-SEM data set.                                                                                                                                        |\n",
      "|                                                                                       | The resolution is 8nm/px in xy and 50nm per section (z).                                                                                                         |\n",
      "|                                                                                       |                                                                                                                                                                  |\n",
      "|                                                                                       | If this is also where to enter, the acquisition conditions on the FEI Magellan400 SEM were 1.9kV accelerating voltage and 200pA current at 0.5 usec dwell time.  |\n",
      "|                                                                                       | The microtome unit of the SBF-SEM is called Gatan 3ViewXP.                                                                                                       |\n",
      "| imageSet.segmentationList                                                             |                                                                                                                                                                  |\n",
      "| imageSet.micrographsFilePattern                                                       |                                                                                                                                                                  |\n",
      "| imageSet.pickedParticlesFilePattern                                                   |                                                                                                                                                                  |\n",
      "| imageSet.pickedParticlesDirectory                                                     |                                                                                                                                                                  |\n"
     ]
    }
   ],
   "source": [
    "print(meta_df.to_markdown(index=False))"
   ]
  },
  {
   "cell_type": "code",
   "execution_count": null,
   "id": "3bbf5c4a",
   "metadata": {},
   "outputs": [],
   "source": []
  }
 ],
 "metadata": {
  "kernelspec": {
   "display_name": "Summer",
   "language": "python",
   "name": "python3"
  },
  "language_info": {
   "codemirror_mode": {
    "name": "ipython",
    "version": 3
   },
   "file_extension": ".py",
   "mimetype": "text/x-python",
   "name": "python",
   "nbconvert_exporter": "python",
   "pygments_lexer": "ipython3",
   "version": "3.9.18"
  }
 },
 "nbformat": 4,
 "nbformat_minor": 5
}
